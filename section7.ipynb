{
 "cells": [
  {
   "cell_type": "markdown",
   "id": "6f31358a-30d8-45aa-8621-d5705d3d7c3a",
   "metadata": {},
   "source": [
    "# 第 7 章：RNA-Seq カウントデータの処理\n",
    "----"
   ]
  },
  {
   "cell_type": "markdown",
   "id": "91853ebe-3e1f-4edf-94ab-6fc6313977c2",
   "metadata": {},
   "source": [
    "## 7.1 準備"
   ]
  },
  {
   "cell_type": "markdown",
   "id": "f6bf2885-b226-458c-afbd-475f0e9150e7",
   "metadata": {},
   "source": [
    "### 7.1.1 RNA-Seq とは\n",
    "RNA-Seq とは、mRNA や miRNA の配列をシークエンスして、発現量の定量や新規転写産物の同定を行う手法である。シークエンスで得られたデータ（リード）は、次のステップで解析する。\n",
    "1. リードのトリミング\n",
    "2. ゲノム配列へのマッピング\n",
    "3. マッピングされたリード数を数える\n",
    "4. サンプルごとの総リード数の違いや、遺伝子配列長の違いを補正（正規化）\n",
    "5. 遺伝子ごとの発現量を同定、比較\n",
    "\n",
    "この章では上記ステップのうち 4 以降を扱い、主に pandas を使って処理を行う。"
   ]
  },
  {
   "cell_type": "markdown",
   "id": "cf5ea183-67c8-4e9a-8535-f3645ecac856",
   "metadata": {},
   "source": [
    "### 7.1.2 この章で用いる RNA-Seq データ\n",
    "この章では、異なる 2 条件で培養された酵母 (Saccharomyces cerevisiae) の RNA-Seq データを使用する。この RNA-Seq データは、DDBJ の SRA データベースにアクセッション番号 SRR453566 から SRR453571 の 6 つのデータとして存在している。\n",
    "- SRR453566, SRR453567, SRR453568 : 通常のグルコース濃度培地による Batch 培養のサンプルから得られた\n",
    "- SRR453569, SRR453570, SRR453571 : 低グルコース濃度を維持した培地による Chemostat 培養のサンプルから得られた\n",
    "\n",
    "いずれも Biological triplicates になっている。"
   ]
  },
  {
   "cell_type": "markdown",
   "id": "a47a6fe8-0301-4fa0-9e0b-5c501e065b1b",
   "metadata": {},
   "source": [
    "### 7.1.3 本章で使用するデータファイル\n",
    "- counts.txt\n",
    "- gene_id_product.tsv"
   ]
  },
  {
   "cell_type": "markdown",
   "id": "1300c0f8-18b3-486a-a8ea-828a9c4b473f",
   "metadata": {},
   "source": [
    "## 7.2 データファイルの読み込みとアノテーション\n",
    "### 7.2.1 カウントデータ"
   ]
  },
  {
   "cell_type": "code",
   "execution_count": null,
   "id": "04117e58-9d80-40c0-8fc2-4a32b8a8a2f4",
   "metadata": {},
   "outputs": [],
   "source": [
    "# 7-2 : 各種インポート\n",
    "import pandas as pd\n",
    "import numpy as np"
   ]
  },
  {
   "cell_type": "code",
   "execution_count": null,
   "id": "2f143119-8504-49e0-9821-e19c814369a8",
   "metadata": {},
   "outputs": [],
   "source": [
    "# 7-3 : ファイルのパス指定\n",
    "count_file = 'counts.txt'\n",
    "gene_id_product_file = 'gene_id_product.tsv'"
   ]
  },
  {
   "cell_type": "code",
   "execution_count": null,
   "id": "4568fbac-405c-4ef2-a447-27b30434d482",
   "metadata": {},
   "outputs": [],
   "source": [
    "# 7-4 : ファイル読み込み\n",
    "df = pd.read_table(count_file, index_col=0, skiprows=1)"
   ]
  },
  {
   "cell_type": "markdown",
   "id": "c2ea27a0-cc11-4249-8140-37d8b54f8bc3",
   "metadata": {},
   "source": [
    "- skiprows : DataFrame に読み込まない行 (ファイルの先頭行を 0 として数える)を数字で指定する。リストで指定することもできる\n",
    "  - `skiprows=1` の代わりに `header=1` としても良い\n",
    "- index_col : インデックスとして用いる列を数字で指定する"
   ]
  },
  {
   "cell_type": "markdown",
   "id": "175c34d5-b230-4ba0-8415-fe278e462ee4",
   "metadata": {},
   "source": [
    "### 7.2.2 データの概観"
   ]
  },
  {
   "cell_type": "code",
   "execution_count": null,
   "id": "ae414557-e583-4651-bb3f-f40825729437",
   "metadata": {},
   "outputs": [],
   "source": [
    "# 7-5 : 読み込んだファイルの確認\n",
    "df.head()"
   ]
  },
  {
   "cell_type": "code",
   "execution_count": null,
   "id": "85d026c5-55b9-4322-b908-641f8e62fa0f",
   "metadata": {},
   "outputs": [],
   "source": [
    "# 7-6 : 特定の列 (Start の列) だけ確認\n",
    "df.Start.head()"
   ]
  },
  {
   "cell_type": "code",
   "execution_count": null,
   "id": "c3f25e5e-dc36-4e94-a9ed-a2109535ea6b",
   "metadata": {},
   "outputs": [],
   "source": [
    "# 7-7 : ファイルの行数と列数の確認\n",
    "df.shape"
   ]
  },
  {
   "cell_type": "markdown",
   "id": "378c1b8d-6053-4332-8854-d00291d4c125",
   "metadata": {},
   "source": [
    "### 7.2.3 列名を変更する"
   ]
  },
  {
   "cell_type": "code",
   "execution_count": null,
   "id": "240d711a-c9db-4497-865b-0c7d6935dd20",
   "metadata": {},
   "outputs": [],
   "source": [
    "# 7-8 : 列名を変更するための辞書の宣言\n",
    "names = {'SRR453566.sorted.bam': 'batch_1',\n",
    "         'SRR453567.sorted.bam': 'batch_2',\n",
    "         'SRR453568.sorted.bam': 'batch_3',\n",
    "         'SRR453569.sorted.bam': 'chemostat_1',\n",
    "         'SRR453570.sorted.bam': 'chemostat_2',\n",
    "         'SRR453571.sorted.bam': 'chemostat_3',}"
   ]
  },
  {
   "cell_type": "code",
   "execution_count": null,
   "id": "f06b494e-bb1f-4ba0-b97e-866c21430052",
   "metadata": {},
   "outputs": [],
   "source": [
    "# 7-9 : 列名の変更\n",
    "df = df.rename(mapper=names, axis=1)"
   ]
  },
  {
   "cell_type": "code",
   "execution_count": null,
   "id": "f129d877-563d-44fb-8736-28491200cc41",
   "metadata": {},
   "outputs": [],
   "source": [
    "# 7-10 : 変更できたか確認\n",
    "df.head()"
   ]
  },
  {
   "cell_type": "markdown",
   "id": "313ee300-a008-4634-9d0e-823876de839e",
   "metadata": {},
   "source": [
    "### 7.2.4 ミトコンドリア上の遺伝子を除く"
   ]
  },
  {
   "cell_type": "code",
   "execution_count": null,
   "id": "12b7682e-8d72-407b-9b3f-7d7f4df9ce67",
   "metadata": {},
   "outputs": [],
   "source": [
    "# 7-11 : ミトコンドリア上の遺伝子に一致しないものだけ取り出す\n",
    "df = df[df.Chr != 'NC_001224.1']"
   ]
  },
  {
   "cell_type": "code",
   "execution_count": null,
   "id": "fc5aa178-5b5b-4315-bf24-dd600ba069ee",
   "metadata": {},
   "outputs": [],
   "source": [
    "# 7-12 : 処理できたか確認 (正しければデータ件数は 6,394 件)\n",
    "df.shape"
   ]
  },
  {
   "cell_type": "markdown",
   "id": "cc2b7968-afe4-426f-98d6-5b9de46b213a",
   "metadata": {},
   "source": [
    "### 7.2.5 アノテーションファイルの読み込み"
   ]
  },
  {
   "cell_type": "code",
   "execution_count": null,
   "id": "5e8f3487-540b-4b1e-9ffe-a6a537be2565",
   "metadata": {},
   "outputs": [],
   "source": [
    "# 7-13 : ファイルの読み込み\n",
    "gene_products = pd.read_table(gene_id_product_file, index_col=0, names=['gene_id', 'product'])"
   ]
  },
  {
   "cell_type": "markdown",
   "id": "db937da9-d07f-4086-86fd-96c5fcd11601",
   "metadata": {},
   "source": [
    "ヘッダー名を左から `gene_id`, `product` とする。"
   ]
  },
  {
   "cell_type": "code",
   "execution_count": null,
   "id": "f564164f-6b65-4314-928e-5a82ca71b1b2",
   "metadata": {},
   "outputs": [],
   "source": [
    "# 7-14 : ファイルの確認\n",
    "gene_products.head()"
   ]
  },
  {
   "cell_type": "markdown",
   "id": "60da49a9-ae67-4673-93fc-4fdb565b074e",
   "metadata": {},
   "source": [
    "### 7.2.6 カウントデータと description を連結する"
   ]
  },
  {
   "cell_type": "code",
   "execution_count": null,
   "id": "0ea11301-47ea-48bf-9029-921134853201",
   "metadata": {},
   "outputs": [],
   "source": [
    "# 7-15 カウントデータとアノテーションファイルの結合\n",
    "df_with_product = gene_products.join(df)"
   ]
  },
  {
   "cell_type": "code",
   "execution_count": null,
   "id": "a825d91d-96fa-46ca-8443-6dd8463b9a69",
   "metadata": {},
   "outputs": [],
   "source": []
  },
  {
   "cell_type": "code",
   "execution_count": null,
   "id": "8877f2bd-325e-4087-a826-6f14211c88c9",
   "metadata": {},
   "outputs": [],
   "source": []
  },
  {
   "cell_type": "code",
   "execution_count": null,
   "id": "a29012d0-87e1-4ee9-9fbb-639319426b1f",
   "metadata": {},
   "outputs": [],
   "source": []
  },
  {
   "cell_type": "code",
   "execution_count": null,
   "id": "5277a987-ae65-44c2-81cc-78bbbf2328f8",
   "metadata": {},
   "outputs": [],
   "source": []
  },
  {
   "cell_type": "code",
   "execution_count": null,
   "id": "ecb9aceb-3bae-4240-943e-fdd828a242d9",
   "metadata": {},
   "outputs": [],
   "source": []
  },
  {
   "cell_type": "code",
   "execution_count": null,
   "id": "ebc2c4f9-77ca-4a8d-85a9-eed85348aea0",
   "metadata": {},
   "outputs": [],
   "source": []
  }
 ],
 "metadata": {
  "kernelspec": {
   "display_name": "Python 3",
   "language": "python",
   "name": "python3"
  },
  "language_info": {
   "codemirror_mode": {
    "name": "ipython",
    "version": 3
   },
   "file_extension": ".py",
   "mimetype": "text/x-python",
   "name": "python",
   "nbconvert_exporter": "python",
   "pygments_lexer": "ipython3",
   "version": "3.8.5"
  }
 },
 "nbformat": 4,
 "nbformat_minor": 5
}
