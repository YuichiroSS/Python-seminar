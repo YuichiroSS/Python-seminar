{
 "cells": [
  {
   "cell_type": "markdown",
   "id": "315f56f7-90d2-48d6-82e2-9c6d691fd33a",
   "metadata": {},
   "source": [
    "# 8 章 : データの可視化（Matplotlib, Seaborn を用いたグラフ作成）\n",
    "----"
   ]
  },
  {
   "cell_type": "markdown",
   "id": "afe1a187-344b-4454-8f01-0a3f9054b349",
   "metadata": {},
   "source": [
    "## 8.1 解析環境のセットアップおよびデータの準備\n",
    "### 8.1.1 可視化ライブラリ"
   ]
  },
  {
   "cell_type": "markdown",
   "id": "abf5e417-9fff-4f6d-a7bb-907eed7eac8c",
   "metadata": {},
   "source": [
    "- Matplotlib\n",
    "  - プロット領域や座標軸等に対する細かい調整が容易にできる\n",
    "  - 高度なグラフも描ける\n",
    "- Seaborn\n",
    "  - Matplotlib を補完する位置付け\n",
    "  - 複雑なグラフを書くときに Matplotlib よりも簡単にコーディングできる"
   ]
  },
  {
   "cell_type": "markdown",
   "id": "4ac68d41-3168-4c0f-90e5-141073b8dce0",
   "metadata": {},
   "source": [
    "### 8.1.2 ライブラリのインストール"
   ]
  },
  {
   "cell_type": "code",
   "execution_count": null,
   "id": "b9127459-2e28-4e5e-b51f-eff5afdcea30",
   "metadata": {},
   "outputs": [],
   "source": [
    "# Matplotlib と Seaborn のインストール\n",
    "!pip3 install matplotlib\n",
    "!pip3 install seaborn\n",
    "\n",
    "# Anaconda を使っている場合はこちら\n",
    "# !conda install matplotlib\n",
    "# !conda install seaborn"
   ]
  },
  {
   "cell_type": "markdown",
   "id": "d607d79c-dd05-4fa8-867e-acab2c3990d3",
   "metadata": {},
   "source": [
    "複数のヒストグラムを縦に並べて描いたり、ベン図を書いたりするのは、Matplotlib や Seaborn だけでは困難なので、JoyPy および matplotlib_venn ライブラリを使用する。"
   ]
  },
  {
   "cell_type": "code",
   "execution_count": null,
   "id": "03f8387d-b829-49cc-bcce-d4283c9c1b79",
   "metadata": {},
   "outputs": [],
   "source": [
    "# JoyPy と matplotlib_venn のインストール\n",
    "!pip3 install joypy\n",
    "!pip3 install matplotlib_venn\n",
    "\n",
    "# Anaconda を使っている場合はこちら\n",
    "# !conda install joypy\n",
    "# !conda install matplotlib_venn"
   ]
  },
  {
   "cell_type": "markdown",
   "id": "06e34d56-56d5-41bb-8f5d-62b07a6fa5b0",
   "metadata": {},
   "source": [
    "# 8.1.3 データセットの準備\n",
    "本章の流れ\n",
    "1. 擬似データを使用してグラフ作成関数の基本的な使い方を説明\n",
    "2. 第 7 章で定量した遺伝子発現量行列を用いて、可視化の応用例を示す  \n",
    "なお、発現量の低い遺伝子は、解析結果の偽陽性を増やす原因になるため、解析前に除去する必要がある。"
   ]
  },
  {
   "cell_type": "code",
   "execution_count": null,
   "id": "b62efe4f-4a7b-4bc3-8003-a7defe6dc8a4",
   "metadata": {},
   "outputs": [],
   "source": [
    "# 8-1 : データの読み込みと発現量の低い遺伝子の除去\n",
    "import numpy as np\n",
    "import pandas as pd\n",
    "\n",
    "tpm = pd.read_table('count_tpm.tsv', index_col=0)\n",
    "tpm = tpm.loc[tpm.means(axis=1) > 1.0, :]  # 平均発現量が 1.0TPM より大きいもののみ取り出す\n",
    "tpm.head()  # データの確認"
   ]
  },
  {
   "cell_type": "markdown",
   "id": "cb331e44-86c3-4a15-8e90-4fdd458956c3",
   "metadata": {},
   "source": [
    "RNA-Seq データの定量で得られるリードカウントデータ、およびそれを正規化した TPM のばらつきは大きい  \n",
    "→ わかりやすく可視化するためにデータの対数化"
   ]
  },
  {
   "cell_type": "code",
   "execution_count": null,
   "id": "9b62c596-6303-4a9c-b546-15504b6a978b",
   "metadata": {},
   "outputs": [],
   "source": [
    "# 8-2 : データの対数化\n",
    "log_tpm = np.log10(tpm + 1.0)  # 真数が 0 になるのを防ぐために、1.0 を足しておく\n",
    "log_tpm.head()"
   ]
  },
  {
   "cell_type": "markdown",
   "id": "3839b068-7f83-47b4-a50c-f696413230a6",
   "metadata": {},
   "source": [
    "## 8.2 Matplotlib ライブラリの使い方\n",
    "### 8.2.1 グラフのプロット領域"
   ]
  },
  {
   "cell_type": "markdown",
   "id": "e97ef164-d068-464a-9442-c2b7c51b61a4",
   "metadata": {},
   "source": [
    "Matplotlib はグラフのプロット領域をいくつかのパーツに分けて、それぞれのパーツをクラスとして定義してある。\n",
    "- Figure クラス : プロット領域全体を含む\n",
    "- Axes クラス : 実際にグラフを描くサブプロット領域を含む\n",
    "\n",
    "Figure クラスに対して、複数の Axis クラスのインスタンスを生成することで、1枚の画像に複数のグラフを描ける"
   ]
  },
  {
   "cell_type": "markdown",
   "id": "a187f370-d53d-4108-ac02-54ef2fdab5e0",
   "metadata": {},
   "source": [
    "<img src=\"matplotlib.jpeg\" width=600>"
   ]
  },
  {
   "cell_type": "markdown",
   "id": "fe49566d-bc78-40cd-8cdd-67e2b9b1b238",
   "metadata": {},
   "source": [
    "### 8.2.2 グラフの作成方法\n",
    "object-oriented インターフェースでグラフを書く手順\n",
    "1. `matplotlib.pyplot.figure()` 関数で Figure クラスのインスタンスを呼び出す\n",
    "2. Figure クラスの `add_subplot()` メソッドで Axes クラスのインスタンスを作成する\n",
    "3. Axes クラスで定義されたサブプロット領域に、Axes クラスで定義された `scatter()` や `hist()` などの作図メソッドを使用してグラフを描く\n",
    "4. 必要に応じて座標軸などのラベルをつける\n",
    "5. Figure クラスの `show()` メソッドを使用してグラフを表示する"
   ]
  },
  {
   "cell_type": "code",
   "execution_count": null,
   "id": "1b15a02e-c44a-4782-afb0-d4f28d54726f",
   "metadata": {},
   "outputs": [],
   "source": [
    "# 8-3 : object-oriented インターフェースでのグラフの描画\n",
    "import matplotlib.pyplot as plt\n",
    "\n",
    "x = [1, 2, 3, 4, 5]\n",
    "y = [2, 4, 6, 8, 10]\n",
    "\n",
    "fig = plt.figure()  # プロット領域を準備\n",
    "ax = fig.add_subplot()  # グラフを描くためのサブプロット領域を用意\n",
    "ax.scatter(x, y)  # 散布図を描く\n",
    "# 軸ラベルを設定\n",
    "ax.set_xlabel('X')\n",
    "ax.set_ylabel('Y')\n",
    "fig.show()  # ディスプレイに表示"
   ]
  },
  {
   "cell_type": "markdown",
   "id": "71b163a2-f83d-431d-bd04-682ea6ae158f",
   "metadata": {},
   "source": [
    "state-based インターフェース\n",
    "- MATLAB の使い方を踏襲した\n",
    "- pyplot が現在操作中の Figure クラスや Axes クラスを自動的に識別して操作し、グラフを作成"
   ]
  },
  {
   "cell_type": "code",
   "execution_count": null,
   "id": "0943ae57-a0b4-463b-a582-e4b3030db6e6",
   "metadata": {},
   "outputs": [],
   "source": [
    "# 8-4 : state-based インターフェースでのグラフの描画\n",
    "x = [1, 2, 3, 4, 5]\n",
    "y = [2, 4, 6, 8, 10]\n",
    "\n",
    "plt.scatter(x, y)  # 自動的にプロット領域とサブプロット領域を用意したうえで散布図を描く\n",
    "\n",
    "# 現在のサブプロット領域のグラフに対して軸ラベルを設定する\n",
    "plt.xlabel('X')\n",
    "plt.ylabel('Y')\n",
    "\n",
    "plt.show()  # ディスプレイに表示"
   ]
  },
  {
   "cell_type": "markdown",
   "id": "b993f105-d9d5-42bd-8a1c-468c705c4070",
   "metadata": {},
   "source": [
    "### 8.2.3 グラフの保存方法\n",
    "`savefig()` メソッドに拡張子付きのファイル名を与えると、Figure クラスのインスタンス上で描かれたグラフが画像ファイルとして保存される\n",
    "- PNG, PDF, SVG, TIFF などほとんどのフォーマットに対応している\n",
    "\n",
    "画像のサイズは `plt.figure()` メソッドの引数 `figsize` を介して指定する\n",
    "- `figsize=(width, height)`\n",
    "- サイズの単位はインチ\n",
    "\n",
    "解像度は引数 `dpi` を介して指定する"
   ]
  },
  {
   "cell_type": "code",
   "execution_count": null,
   "id": "38e0c951-09e9-4502-a712-dd8b0d674850",
   "metadata": {},
   "outputs": [],
   "source": [
    "# 8-5 : グラフを横 6.4 インチ、縦 4.8 インチ、解像度 100dpi の画像として PDF で書き出す\n",
    "x = [1, 2, 3, 4, 5]\n",
    "y = [2, 4, 6, 8, 10]\n",
    "\n",
    "fig - plt.figure(figsize=(6.4, 4.8), dpi=100)\n",
    "ax = fig.add_subplot()\n",
    "ax.scatter(x, y)\n",
    "ax.set_xlabel('X')\n",
    "ax.set_ylabel('Y')\n",
    "fig.savefig('example_scatterplot.pdf')"
   ]
  },
  {
   "cell_type": "markdown",
   "id": "b8eb670e-9ccf-4d09-b408-8faff51a3bf9",
   "metadata": {},
   "source": [
    "state-based インターフェースを使用している場合、`plt.savefig()` メソッドでグラフを画像として保存できる。"
   ]
  },
  {
   "cell_type": "markdown",
   "id": "0ec560f6-5182-42d7-a2d0-fdfc7726867e",
   "metadata": {},
   "source": [
    "### 8.2.4 基本グラフを描くメソッド\n",
    "これらのメソッドは、x 座標および y 座標の配列（リストや pandas の Series でも可）を引数として受け取る  \n",
    "その他に色、マーカーや線の形などを指定する引数も多数用意されている\n",
    "\n",
    "<img src=\"8-2-4.jpeg\" width=600>"
   ]
  },
  {
   "cell_type": "markdown",
   "id": "e13a1333-b4fd-4c22-96e0-842f2d7bb958",
   "metadata": {},
   "source": [
    "### 8.2.5 座標軸や凡例を調整するメソッド\n",
    "座標軸の表示範囲を設定したり、座標の目盛り位置を指定したり、座標軸のスケールを変更したりするためによく使われるメソッド\n",
    "\n",
    "<img src=\"8-2-5.jpeg\" width=600>"
   ]
  },
  {
   "cell_type": "markdown",
   "id": "95448a9f-3f30-4531-ad85-b42aaddab8ca",
   "metadata": {},
   "source": [
    "## 8.3 基本グラフ\n",
    "この節では、ヒストグラム、ボックスプロット、散布図、線グラフ、棒グラフなどの基本的なグラフの作図方法を説明する。\n",
    "\n",
    "### 8.3.1 ヒストグラム\n",
    "\n",
    "- 量的データの分布の様子を可視化するために用いられる\n",
    "- 度数分布表に基づいて描かれる\n",
    "- 階級の範囲はいくつかの方法に基づいて決められる\n",
    "  - 平方根選択\n",
    "  - スタージェスの公式\n",
    "    - データ数が n の時、log2(n+1) 以上の最小の整数を階級の幅とする\n",
    "  - スコットの選択\n",
    "    - データの標準偏差の 3.5 倍をデータ数の 3 乗根で割ったものを階級の幅とする"
   ]
  },
  {
   "cell_type": "code",
   "execution_count": null,
   "id": "af18c420-2577-4ccd-8be8-b327195682ff",
   "metadata": {},
   "outputs": [],
   "source": [
    "# 8-6 : Matplotlib でヒストグラムを描画\n",
    "x = log_tmp.iloc[:, 1]\n",
    "fig = plt.figure()\n",
    "ax = fig.add_subplot()\n",
    "ax.hist(x, bins='scott')\n",
    "ax.set_xlabel('log10(TPM)')\n",
    "ax.set_ylabel('frequency')\n",
    "fig.show()"
   ]
  },
  {
   "cell_type": "markdown",
   "id": "08c8e03a-81d2-4ae7-be0f-c445a313aaa7",
   "metadata": {},
   "source": [
    "`hist()` メソッドの引数 `bins` に `sqrt`, `sturges`, `scott` などの文字列を代入して階級の範囲の選択法を指定できる  \n",
    "`bins=10` のように、任意の整数値を代入することにより階級の範囲を決めることも可能"
   ]
  },
  {
   "cell_type": "markdown",
   "id": "31be2f6d-9c51-487c-ae12-7a88792ddf94",
   "metadata": {},
   "source": [
    "`hist()` メソッドの `density` 引数に `True` を代入することで、正規化されたヒストグラムが描かれる\n",
    "- 正規化されたヒストグラムは全体の面積が 1.0 となる\n",
    "- 各ビンの高さの合計が 1.0 になるわけではない\n",
    "\n",
    "ビンの高さの合計を 1.0 にするためには、`weight` 引数を利用して、入力データの値に重みをかけて調整する必要がある\n",
    "- この時、`bins` は整数で指定しなければならない\n",
    "- スコットの選択などの公式で階級の範囲を決めたい場合には、あらかじめ計算しておく必要がある"
   ]
  },
  {
   "cell_type": "code",
   "execution_count": null,
   "id": "538f4a8c-8691-4837-b767-e11a0ee0dff0",
   "metadata": {},
   "outputs": [],
   "source": [
    "# 8-7 : 正規化されたヒストグラムの描画\n",
    "x = log_tpm.iloc[:, 1]\n",
    "\n",
    "# スコットの選択に基づくビン数の計算\n",
    "h = (3.5 * np.std(x)) / (len(x) ** (1/3))\n",
    "n_bins = int(np.round((np.max(x) - np.min(x)) / h))\n",
    "\n",
    "# 生データにかける重みの計算\n",
    "# ones_like() は引数と同じ形状で全ての要素が 1 の配列を返す\n",
    "w = np.ones_like(x) / float(len(x))\n",
    "\n",
    "fig = plt.figure()\n",
    "ax = fig.add_subplot()\n",
    "ax.hist(x, bins=n_bins, weight=w)\n",
    "ax.set_xlabel('log10(TPM)')\n",
    "ax.set_ylabel('frequency')\n",
    "fig.show()"
   ]
  },
  {
   "cell_type": "markdown",
   "id": "04776290-9c16-4393-9105-53c1cde7d8c7",
   "metadata": {},
   "source": [
    "同じ Axes クラスのインスタンスに対して `hist()` メソッドを複数実行することで、同じ作図領域に複数のヒストグラムを描くことができる\n",
    "- ヒストグラムを重ねて描画する\n",
    "- 重なって見えなくなるのを防ぐために、`hist()` メソッドの `alpha` 引数に透明度を指定することができる"
   ]
  },
  {
   "cell_type": "code",
   "execution_count": null,
   "id": "81637d7e-8b5b-4108-a5aa-228ce1458722",
   "metadata": {},
   "outputs": [],
   "source": [
    "# 8-8 : 発現量行列に含まれる 6 ライブラリの TPM の分布を 1 つのサブプロット領域に描く\n",
    "fig = plt.figure()\n",
    "ax = fig.add_subplot()\n",
    "\n",
    "for i in range(tpm.shape[1]):\n",
    "    x = log_tpm.iloc[:, 1]\n",
    "    ax.hist(x, bins='scott', alpha=0.2)\n",
    "    \n",
    "fig.show()"
   ]
  },
  {
   "cell_type": "markdown",
   "id": "7b12c2cd-8569-4935-a76c-076a652abe01",
   "metadata": {},
   "source": [
    "各々のヒストグラムを上下にずらして描く方法\n",
    "- JoyPy ライブラリを用いる\n",
    "- 上の例では、`log_tpm` を JoyPy ライブラリの `joyplot()` 関数に代入\n",
    "  - デフォルトのままではデータの分布から密度が推定され、それが描かれる\n",
    "  - ヒストグラムを描く際には `hist` 引数に `True` を指定\n",
    "  - `joyplot()` 関数でも `bins` や `alpha` 引数が利用できる"
   ]
  },
  {
   "cell_type": "code",
   "execution_count": null,
   "id": "b369ad88-9dfc-44c7-8481-7d9a30b4600e",
   "metadata": {},
   "outputs": [],
   "source": [
    "# 8-9 : ヒストグラムを上下にずらして描画\n",
    "import joypy\n",
    "\n",
    "fig, axes = joypy.joyplot(log_tpm, hist=True, bins='scott', alpha=0.5)\n",
    "axes[-1].set_xlabel('log10(TPM)')\n",
    "fig.show()"
   ]
  },
  {
   "cell_type": "markdown",
   "id": "63d22f74-edda-4088-9525-e305e05eb9bb",
   "metadata": {},
   "source": [
    "### 8.3.2 ボックスプロット（箱ひげ図）\n",
    "\n",
    "- 量的データの分布をわかりやすく表現するために使われるグラフ\n",
    "- 複数の変量を同時に比べる際に便利\n",
    "- ボックスプロットは四分位点に基づいて描かれる\n",
    "  - 箱の下辺 : 第一四分位数 ($Q_{\\frac{1}{4}}$)\n",
    "  - 箱の上辺 : 第三四分位数 ($Q_{\\frac{3}{4}}$)\n",
    "  - 箱の内部の線 : 第二四分位数 ($Q_{\\frac{2}{4}}$)\n",
    "  - ひげの下端 : $Q_{\\frac{1}{4}} - 1.5IQR$\n",
    "  - ひげの上端 : $Q_{\\frac{3}{4}} + 1.5IQR$\n",
    "    - IQR : 四分位範囲 ($Q_{\\frac{3}{4}} - Q_{\\frac{1}{4}}$)\n",
    "- ひげの上下端を超えたデータは外れ値として扱われる\n",
    "- Matplotlib では `boxplot()` 関数を用いて描く\n",
    "  - 第一引数には描きたい変量\n",
    "  - そのデータのラベルをリストとして `label` 引数に代入"
   ]
  },
  {
   "cell_type": "code",
   "execution_count": null,
   "id": "4f00ad30-6b62-4ef4-9c38-e621cd51a03c",
   "metadata": {},
   "outputs": [],
   "source": [
    "# 8-10 : ボックスプロットの描画\n",
    "x = log_tpm.iloc[:, 1].values\n",
    "\n",
    "fig = plt.figure()\n",
    "ax = fig.add_subplot()\n",
    "ax.boxplot(x, labels=['batch1'])\n",
    "fig.show()"
   ]
  },
  {
   "cell_type": "markdown",
   "id": "ab2120e5-8184-4ff4-bedf-6983a756ae48",
   "metadata": {},
   "source": [
    "`boxplot()` に行列（NumPy の二次元配列もしくは pandas の DataFrame） を代入すると、各列に対してボックスプロットが生成される\n",
    "- $x$ 軸のラベルも同様にリストあるいは配列として与える"
   ]
  },
  {
   "cell_type": "code",
   "execution_count": null,
   "id": "f157bcc2-212f-4899-b9b8-e73f941b5ebb",
   "metadata": {},
   "outputs": [],
   "source": [
    "# 8-11 : 複数のボックスプロットの描画\n",
    "x = log_tpm.values\n",
    "labels = log_tpm.columns.values\n",
    "\n",
    "fig = plt.figure()\n",
    "ax = fig.add_subplot()\n",
    "ax.boxplot(x, labels=labels)\n",
    "ax.set_xticklabels(labels, rotation=15)  # 軸ラベルを 15 度回転させて表示\n",
    "fig.show()"
   ]
  },
  {
   "cell_type": "markdown",
   "id": "6aa4f82a-770e-46ca-a57b-684af4db4383",
   "metadata": {},
   "source": [
    "ボックスプロットだけでは分布の形を比較することが難しい\n",
    "- ボックスプロットの上に実際の点を重ねたり、実際の分布から密度を推定して描いたりすることがある\n",
    "- バイオリンプロット : 推定密度をボックスプロットのように描いたグラフ\n",
    "  - Matplotlib では `violinplot()` メソッドを用いて描く\n",
    "  - 座標軸を表示させるための `label` オプションがない\n",
    "    - ユーザー側で `set_xticks()` や `set_xticklabels()` メソッドなどを利用してラベルを出力する必要がある"
   ]
  },
  {
   "cell_type": "code",
   "execution_count": null,
   "id": "f1ad8e51-7f1c-4e81-b14c-0ca1047e3b51",
   "metadata": {},
   "outputs": [],
   "source": [
    "# 8-12 : バイオリンプロットの描画\n",
    "x = log_tpm.values\n",
    "labels = log_tpm.columns.values\n",
    "xticks = [i + for i in range(len(labels))]\n",
    "\n",
    "fig = plt.figure()\n",
    "ax = fig.add_subplot()\n",
    "ax.violinplot(x, showmedians=True)\n",
    "\n",
    "ax.set_xticks(xtick)\n",
    "ax.set_xticklabels(labels, rotation=15)\n",
    "fig.show()"
   ]
  },
  {
   "cell_type": "markdown",
   "id": "bfb0bae3-850f-4ee6-a387-1311f147df9e",
   "metadata": {},
   "source": [
    "### 8.3.3 散布図\n",
    "- 2 つの量的データの関係や分布を可視化するために用いられる\n",
    "- 2 つの変量の間に因果関係が想定される場合、横軸に原因となる変量を、縦軸に結果となる変量を取るのが一般的\n",
    "- Axes クラスの `scatter()` メソッドに横軸と縦軸の座標を代入して描く\n",
    "  - `grid()` メソッドで作図領域にグリッド線を追加するとグラフが見やすくなる"
   ]
  },
  {
   "cell_type": "code",
   "execution_count": null,
   "id": "4c6ac6a3-20a6-4c2e-b91b-63bf296037cb",
   "metadata": {},
   "outputs": [],
   "source": [
    "# 8-13 : 散布図の描画\n",
    "x = [0, 1, 2, 3, 4, 5, 6]\n",
    "y = [2, 5, 4, 9, 8, 6, 1]\n",
    "\n",
    "fig = plt.figure()\n",
    "ax = fig.add_subplot()\n",
    "ax.scatter(x, y)\n",
    "ax.grid()\n",
    "fig.show()"
   ]
  },
  {
   "cell_type": "markdown",
   "id": "c6fa1956-a1aa-444f-bc5e-fe4f895cedfb",
   "metadata": {},
   "source": [
    "RNA-Seq の解析において散布図は多用される\n",
    "- 平均分散プロット : 全ライブラリにおける遺伝子の平均と分散を示す\n",
    "- MA プロット : 発現変動遺伝子の同定結果を示す\n",
    "\n",
    "平均分散プロットを描く手順\n",
    "1. 横軸の座標となる平均 $\\mu$ および縦軸の座標となる分散 $v$ を pandas の DataFrame メソッドで計算し、それぞれを変数 `mu`, `var` に代入\n",
    "2. `mu`, `var` を `scatter()` メソッドに入れる\n",
    "\n",
    "このまま可視化すると全体の把握が難しいので、縦軸と横軸を対数スケールで描く\n",
    "- `ax.set_xscale`, `ax.set_yscale` に `symlog` を指定"
   ]
  },
  {
   "cell_type": "code",
   "execution_count": null,
   "id": "0ef00d5a-64cc-4943-a4be-4c170df69b00",
   "metadata": {},
   "outputs": [],
   "source": [
    "# 8-14 : 平均分散プロットを描く\n",
    "mu = tpm.mean(axis=1).values\n",
    "var = tpm.var(axis=1).values\n",
    "\n",
    "fig = plt.figure()\n",
    "ax = fig.add_subplot()\n",
    "ax.grid()\n",
    "ax.scatter(mu, var, color='black', alpha=0.2)\n",
    "ax.plot([0, 1e4], [0, 1e4], color='red')\n",
    "ax.set_xlabel('mean')\n",
    "ax.set_ylabel('variance')\n",
    "ax.set_xscale('symlog')\n",
    "ax.set_yscale('symlog')\n",
    "fig.show()"
   ]
  },
  {
   "cell_type": "markdown",
   "id": "7abbc4dd-c1e6-4b3e-9a15-366161417b70",
   "metadata": {},
   "source": [
    "MA プロットを描く手順\n",
    "1. 対数化された発現量の平均および、fold change (倍率変化) を計算\n",
    "2. fold change の絶対値が 4 以上の場合を発現変動遺伝子として定義\n",
    "3. `scatter()` メソッドを 2 回使用して、非発現変動遺伝子および発現変動遺伝子の点を描く\n",
    "4. `scatter()` メソッドの `label` 引数に点の属性 (非発現か発現か) を追加\n",
    "5. `legend()` メソッドで点の色と遺伝子の属性を対応させるグラフ凡例を出力"
   ]
  },
  {
   "cell_type": "code",
   "execution_count": null,
   "id": "de19e89e-68ed-4670-a43b-5e81a7588537",
   "metadata": {},
   "outputs": [],
   "source": [
    "# 8-15 : MA プロットを描く\n",
    "batch_log_tpm_mean = np.log2(tpm.iloc[:, :3].mean(axis=1).values + 1)\n",
    "chemostat_log_mean = np.log2(tpm.iloc[:, 3:].mean(axis=1).values + 1)\n",
    "\n",
    "mu = (batch_log_tpm_mean + chemostat_log_mean) / 2\n",
    "fc = chemostat_log_mean - batch_log_tpm_mean\n",
    "\n",
    "is_DEG = np.array([False] * len(fc))  # [False, False, ..., False] が fc の要素数ある array を作成\n",
    "is_DEG[(np.abs(fc) > 2)] = True  # 発現量の差が対数にして 2 以上の要素をフラグ\n",
    "\n",
    "fig = plt.figure()\n",
    "ax = fig.add_subplot()\n",
    "ax.grid()\n",
    "ax.scatter(mu[np.logical_not(is_DEG)], fc[np.logical_not(is_DEG)], color='black', alpha=0.3, label='DEG')\n",
    "ax.set_xlabel('mean of log2(TPM)')\n",
    "ax.set_ylabel('log2 fold changes (chemostat - batch)')\n",
    "ax.legend()\n",
    "fig.show()"
   ]
  },
  {
   "cell_type": "markdown",
   "id": "476b164f-3a06-4664-a2fb-989fe4dc236e",
   "metadata": {},
   "source": [
    "Seaborn の `jointplot()` 関数を用いると容易にヒストグラム付きの散布図を描くことができる\n",
    "\n",
    "手順\n",
    "1. 横軸と縦軸の座標となるデータを 1 つの DataFrame に用意する\n",
    "2. この DataFrame を `jointplot()` 関数に代入し、横軸と縦軸にあたる列名を指定"
   ]
  },
  {
   "cell_type": "code",
   "execution_count": null,
   "id": "eafb0d35-96b4-4672-adf5-17d240647810",
   "metadata": {},
   "outputs": [],
   "source": [
    "# 8-16 : batch サンプルの平均と chemostat サンプルの平均の関係をヒストグラム付きの散布図で描く\n",
    "import seaborn as sns\n",
    "\n",
    "batch_log_tpm_mean = np.log2(tpm.iloc[:, :3].mean(axis=1).values + 1)\n",
    "chemostat_log_mean = np.log2(tpm.iloc[:, 3:].mean(axis=1).values + 1)\n",
    "\n",
    "log_tpm_lib_mean = pd.DataFrame({'batch' : batch_log_tpm_mean, 'chemostat' : chemostat_log_mean})\n",
    "\n",
    "sns.jointplot('batch', 'chemostat', data=log_tpm_lib_mean)\n",
    "plt.show()"
   ]
  },
  {
   "cell_type": "markdown",
   "id": "1aa90fef-eda2-4cc0-b64f-bf48577fb614",
   "metadata": {},
   "source": [
    "ペアプロット : 変数の数が多くなった際に、複数の変数間の総当たりでヒストグラム付きの散布図を描き、それを 1 枚にまとめたもの  \n",
    "→ Seaborn の `pairplot()` 関数"
   ]
  },
  {
   "cell_type": "code",
   "execution_count": null,
   "id": "c7a1f4a5-1475-4ac1-81b4-f5bd3e70134b",
   "metadata": {},
   "outputs": [],
   "source": [
    "# 8-17 : カウントデータの 6 ライブラリ同時の関係を図示\n",
    "sns.pairplot(log_tpm, diag_kind='kde')  # kde : kernel density estimation (カーネル密度推定)\n",
    "plt.show()"
   ]
  },
  {
   "cell_type": "markdown",
   "id": "af6fe0fe-85a0-41e2-85cb-211d1075d0e9",
   "metadata": {},
   "source": [
    "### 8.3.4 線グラフ\n",
    "- 順序のある系列データを可視化するために利用\n",
    "- Axes クラスの `plot()` メソッドで描く"
   ]
  },
  {
   "cell_type": "code",
   "execution_count": null,
   "id": "b2d76bee-bb3b-4452-a04c-80931c3a390f",
   "metadata": {},
   "outputs": [],
   "source": [
    "# 8-18 : ある遺伝子の発現量を処理前と処理後 48 時間まで観測した値を線グラフで描く\n",
    "x = [0, 2, 4, 8, 12, 24, 48]\n",
    "y = [1.2, 2.4, 1.8, 1.6, 1.1, 1.0, 1.3]\n",
    "\n",
    "fig = plt.figure()\n",
    "ax = fig.add_subplot()\n",
    "ax.plot(x, y)\n",
    "ax.grid()\n",
    "ax.set_xlabel('treatment [hour]')\n",
    "ax.set_ylabel('gene expression [TPM]')\n",
    "ax.set_xticks(x)\n",
    "fig.show()"
   ]
  },
  {
   "cell_type": "markdown",
   "id": "0c8dfcd0-6fd8-44d4-8f8b-7909b2c14750",
   "metadata": {},
   "source": [
    "複数個の遺伝子発現量の変化を同じ作図領域に描くには、それぞれの遺伝子発現量に対して `plot()` メソッドを実行する\n",
    "- グラフの線の色は自動的に配色される\n",
    "- `plot()` 関数の `label` オプションに遺伝子名を追加して、グラフの線と実際の遺伝子名を対応させる\n",
    "  - これにより `legend()` メソッドで凡例を表示させるときに、線の色と遺伝子名の対応が表示される"
   ]
  },
  {
   "cell_type": "code",
   "execution_count": null,
   "id": "f0834354-f8e7-49dd-bbb0-ca4b294cbd20",
   "metadata": {},
   "outputs": [],
   "source": [
    "# 8-19 : 複数個の遺伝子発現量の変化を同じ作図領域に描く\n",
    "x = [0, 2, 4, 8, 12, 24, 48]\n",
    "y1 = [2, 5, 4, 9, 8, 6, 1]\n",
    "y2 = [2, 4, 4, 5, 6, 4, 5]\n",
    "y3 = [1, 8, 9, 3, 2, 0, 1]\n",
    "\n",
    "fig = plt.figure()\n",
    "ax = fig.add_subplot()\n",
    "ax.grid()\n",
    "ax.plot(x, y1, label='gene1')\n",
    "ax.plot(x, y2, label='gene2')\n",
    "ax.plot(x, y3, label='gene3')\n",
    "ax.set_xticks(x)\n",
    "ax.legend()\n",
    "fig.show()"
   ]
  },
  {
   "cell_type": "markdown",
   "id": "e15669b5-57a8-45d2-9a9b-849a7d54690e",
   "metadata": {},
   "source": [
    "### 8.3.5 棒グラフ\n",
    "- 複数のカテゴリに属している値同士の比較を行う際に用いられる\n",
    "- Axes クラスの `bar()` メソッドで描く"
   ]
  },
  {
   "cell_type": "code",
   "execution_count": null,
   "id": "844fb7af-bb75-4914-9039-14957c1e9779",
   "metadata": {},
   "outputs": [],
   "source": [
    "# 8-20 : 棒グラフを描く\n",
    "x = ['batch', 'chemostat']\n",
    "y = [1.2, 3.4]\n",
    "\n",
    "fig = plt.figure()\n",
    "ax = fig.add_subplot()\n",
    "ax.bar(x, y)\n",
    "ax.set_ylabel('log10(TPM)')\n",
    "fig.show()"
   ]
  },
  {
   "cell_type": "markdown",
   "id": "2b20f3c3-1469-45b6-9399-7401638579ad",
   "metadata": {},
   "source": [
    "1 つのカテゴリに複数の値を含むデータを横並びの棒グラフで可視化するときには、横の幅や横軸の座標を調整する必要がある"
   ]
  },
  {
   "cell_type": "code",
   "execution_count": null,
   "id": "4628def9-fe12-4036-968f-4e4ee5dadfe9",
   "metadata": {},
   "outputs": [],
   "source": [
    "# 8-21 : 横並びの棒グラフを描く例\n",
    "gene_id = 'gene_6356'\n",
    "labels = ['batch', 'chemostat']\n",
    "x = np.array([0, 1])\n",
    "y = tpm.loc[gene_id, :].values.reshape((3, 2), order='F')  # FORTRAN 方式の変換順序（列方向から）\n",
    "\n",
    "fig = plt.figure()\n",
    "ax = fig.add_subplot()\n",
    "\n",
    "# 棒の幅を 0.3 倍する\n",
    "ax.bar(x, y[0, :], width=0.3, label='replicate 1')\n",
    "# 1 本目の棒の x 座標に 0.3 (1 本目の棒の幅) 足した座標を、2 本目の棒の x 座標とする\n",
    "ax.bar(x + 0.3, y[1, :], width=0.3, label='replicate 2')\n",
    "# 1 本目の棒の x 座標に 0.3 + 0.3 (1 本目と 2 本目の棒の幅) 足した座標を、3 本目の棒の x 座標とする\n",
    "ax.bar(x + 0.3 + 0.3, y[2, :], width=0.3, label='replicate 3')\n",
    "\n",
    "ax.set_ylabel('TPM')\n",
    "ax.set_xticks(x + 0.3)\n",
    "ax.set_xticklabels(labels)\n",
    "ax.legend()\n",
    "fig.show()"
   ]
  },
  {
   "cell_type": "markdown",
   "id": "ef3de062-21a0-4e7b-be5d-6815de65f059",
   "metadata": {},
   "source": [
    "積み上げ棒グラフの場合は、$x$ 軸の座標は調整せずに、棒を描く基準となる $y$ 軸の座標を調整する必要がある "
   ]
  },
  {
   "cell_type": "code",
   "execution_count": null,
   "id": "77a59c32-e4d1-4da6-a9b6-f552d5c922a8",
   "metadata": {},
   "outputs": [],
   "source": [
    "# 8-22 : 積み上げ棒グラフの例\n",
    "gene_id = 'gene_6356'\n",
    "x = ['batch', 'chemostat']\n",
    "y = tpm.loc[gene_id, :].values.reshape((3, 2), order='F')\n",
    "\n",
    "fig = plt.figure()\n",
    "ax = fig.add_subplot()\n",
    "\n",
    "ax.bar(x, y[0, :], label='replicate 1')\n",
    "# 2 本目の棒の基準値 (bottom) を 1 本目の棒の高さにする\n",
    "ax.bar(x, y[1, :], bottom=y[0, :], label='replicate 2')\n",
    "# 3 本目の棒の基準値 (bottom) を 1 本目と 2 本目の棒の高さの和にする\n",
    "ax.bar(x, y[2, :], bottom=y[0, :] + y[1, :], label='replicate 3')\n",
    "\n",
    "ax.set_ylabel('TPM')\n",
    "ax.legend()\n",
    "fig.show()"
   ]
  },
  {
   "cell_type": "code",
   "execution_count": null,
   "id": "b2bc4c9c-533f-42cb-b49b-e4d0a71be49a",
   "metadata": {},
   "outputs": [],
   "source": [
    "# 8-23 : batch 群と chemostat 群それぞれから平均と分散を計算し、エラーバーと棒グラフを同時に描く例\n",
    "# 棒の高さが平均、エラーバーの高さが標準偏差\n",
    "gene_id = 'gene_6356'\n",
    "labels = ['batch', 'chemostat']\n",
    "x = np.array([0, 1])\n",
    "y = tpm.loc[gene_id, :].values.reshape((3, 2), order='F')\n",
    "y_mean = y.mean(0)\n",
    "y_sd = y.std(0)\n",
    "\n",
    "error_bar_options = {'lw':1, 'capthick':1, 'capsize':20}  # lw ... line width\n",
    "\n",
    "fig = plt.figure()\n",
    "ax = fig.add_subplot()\n",
    "ax.bar(x, y_mean, yerr=y_sd, error_kw = error_bar_options)\n",
    "ax.set_ylabel('TPM')\n",
    "fig.show()"
   ]
  },
  {
   "cell_type": "markdown",
   "id": "e07334f1-80fd-4cd1-8275-02724743f791",
   "metadata": {},
   "source": [
    "### 8.3.6 ヒートマップ\n",
    "- 遺伝子発現量行列を可視化するために用いられる\n",
    "- Matplotlib で描くときには `pcolor()` メソッドを利用する\n",
    "  - `colorbar()` メソッドを使うと横にスケールバーを表示させることも可能"
   ]
  },
  {
   "cell_type": "code",
   "execution_count": null,
   "id": "0de92b99-3385-4cc3-b73b-5c126daf9644",
   "metadata": {},
   "outputs": [],
   "source": [
    "# 8-24 : 10 行 × 6 行からなる行列型のデータを作成し、ヒートマップで図示\n",
    "x = np.random.rand(10, 6)  # ランダムの擬似データのため、出力のヒートマップは環境によって異なる\n",
    "\n",
    "fig = plt.figure()\n",
    "ax = fig.add_subplot()\n",
    "heatmap = ax.pcolor(x, vmin=0, vmax=1, cmap='YlOrRd')  # Yellow → Orange → Red のグラデーション\n",
    "fig.colorbar(heatmap, ax=ax)\n",
    "fig.show()"
   ]
  },
  {
   "cell_type": "markdown",
   "id": "cb98b178-0475-48bd-85ed-a427115e0c1f",
   "metadata": {},
   "source": [
    "batch および chemostat 間において、fold change の絶対値が 4 以上の遺伝子を発現変動遺伝子として定義し、発現変動遺伝子のヒートマップを描く\n",
    "\n",
    "手順\n",
    "1. fold change を計算し、発現変動遺伝子を検出して、発現変動遺伝子の発現量行列を取り出す\n",
    "2. `pcolor()` メソッドに発現変動遺伝子の発現量行列を入れる\n",
    "3. スケールバーの最小値を 0、最大値を発現変動遺伝子の発現量行列中の最大値とする"
   ]
  },
  {
   "cell_type": "code",
   "execution_count": null,
   "id": "88fd6fe1-d060-4fc5-9763-01dcfc31768f",
   "metadata": {},
   "outputs": [],
   "source": [
    "# 8-25 : 発現変動遺伝子のヒートマップを描く\n",
    "batch_log_tpm_mean = np.log2(tpm.iloc[:, :3].mean(axis=1).values + 1)\n",
    "chemostat_log_mean = np.log2(tpm.iloc[:, 3:].mean(axis=1).values + 1)\n",
    "\n",
    "mu = (batch_log_tpm_mean + chemostat_log_mean) / 2\n",
    "fc = chemostat_log_mean - batch_log_tpm_mean\n",
    "\n",
    "is_DEG = np.array([False] * len(fc))\n",
    "is_DEG[(np.abs(fc) > 2)] = True\n",
    "\n",
    "log_tpm_DEG - log_tpm.loc[is_DEG, :].values\n",
    "fc_DEG = fc[is_DEG]\n",
    "\n",
    "fig = plt.figure()\n",
    "ax = fig.add_subplot()\n",
    "heatmap = ax.pcolor(log_tpm_DEG, vmin=0, vmax=np.max(log_tpm_DEG), cmap='YlOrRd')\n",
    "ax.set_xticks([0, 1, 2, 3, 4, 5])\n",
    "ax.set_xticklabels(log_tpm.columns.values, rotation=15)\n",
    "fig.colorbar(heatmap, ax=ax)\n",
    "fig.show()"
   ]
  },
  {
   "cell_type": "markdown",
   "id": "f633b8bb-313b-4004-ab23-7cd22a90577d",
   "metadata": {},
   "source": [
    "Seaborn を使えば関数 1 つでクラスタリング付きのヒートマップを描画できる  \n",
    "→ `clustermap()` メソッド\n",
    "\n",
    "手順\n",
    "1. ユークリッド距離で距離行列を計算\n",
    "2. 距離行列に基づいてウォード法に基づくクラスタリングを行う\n",
    "3. 結果をヒートマップに図示"
   ]
  },
  {
   "cell_type": "code",
   "execution_count": null,
   "id": "f9432769-635d-4e96-bb51-b960208c3100",
   "metadata": {},
   "outputs": [],
   "source": [
    "# 8-26 : クラスタリング付きヒートマップの描画\n",
    "batch_log_tpm_mean = np.log2(tpm.iloc[:, :3].mean(axis=1).values + 1)\n",
    "chemostat_log_mean = np.log2(tpm.iloc[:, 3:].mean(axis=1).values + 1)\n",
    "\n",
    "mu = (batch_log_tpm_mean + chemostat_log_mean)\n",
    "fc = chemostat_log_mean - batch_log_tpm_mean\n",
    "\n",
    "is_DEG = np.array([False] * len(fc))\n",
    "is_DEG[(np.abs(fc) > 2)] = True\n",
    "\n",
    "log_tpm_DEG = log_tpm.loc[is_DEG, :]\n",
    "\n",
    "fig = plt.figure(figsize=(2, 14))\n",
    "sns.clustermap(log_tpm_DEG, method='ward', metric='euclidean', cmap='YlOrRd')\n",
    "fig.show()"
   ]
  },
  {
   "cell_type": "markdown",
   "id": "0e9fac78-b9c9-4ce2-9ee2-ed74d40f0c46",
   "metadata": {},
   "source": [
    "### 8.3.2 ベン図\n",
    "- 複数のグループ間の共通要素を確認する際に用いられる\n",
    "- `matplotlib_venn` ライブラリを用いる\n",
    "   - 2 つのグループからなるベン図を描くときには `venn2()` 関数を用いる\n",
    "   - このときグループ間のオーバーラップ領域に含まれる要素の数をあらかじめ計算する必要がある"
   ]
  },
  {
   "cell_type": "code",
   "execution_count": null,
   "id": "e8004357-8d1d-4aef-b75c-eca4c159692d",
   "metadata": {},
   "outputs": [],
   "source": [
    "# 8-27 : ベン図の描画\n",
    "from matplotlib_venn import venn2\n",
    "\n",
    "group_a = {'gene_1', 'gene_2', 'gene_3', 'gene_4', 'gene_5'}  # グループは集合型\n",
    "group_b = {'gene_4', 'gene_5', 'gene_6'}\n",
    "\n",
    "n_a = len(group_a - group_b)\n",
    "n_b = len(group_b - group_a)\n",
    "n_ab = len(group_a & group_b)\n",
    "\n",
    "v = venn2(subsets=(n_a, n_b, n_ab), set_labels=('A', 'B'))\n",
    "plt.show()"
   ]
  },
  {
   "cell_type": "markdown",
   "id": "45d30439-b5b1-4a95-b7e9-777dfa6625a9",
   "metadata": {},
   "source": [
    "3 つのグループからなるベン図を描く場合は `venn3()` 関数を利用する"
   ]
  },
  {
   "cell_type": "code",
   "execution_count": null,
   "id": "0452c737-2d48-484a-a5e2-a25c85c30b8e",
   "metadata": {},
   "outputs": [],
   "source": [
    "# 8-28 : 3 つのグループのベン図\n",
    "from matplotlib_venn import venn3\n",
    "\n",
    "group_a = {'gene_1', 'gene_2', 'gene_3', 'gene_4', 'gene_5', 'gene_6'}  \n",
    "group_b = {'gene_2', 'gene_4', 'gene_6', 'gene_8', 'gene_10'}\n",
    "group_c = {'gene_2', 'gene_3', 'gene_5', 'gene_7', 'gene_9', 'gene_10'}\n",
    "\n",
    "n_a = len(group_a - group_b - group_c)\n",
    "n_b = len(group_b - group_a - group_c)\n",
    "n_c = len(group_b - group_a - group_c)\n",
    "n_ab = len((group_a & group_b)- group_c)\n",
    "n_bc = len((group_b & group_c)- group_a)\n",
    "n_ca = len((group_c & group_a)- group_b)\n",
    "n_abc = len(group_a & group_b & group_c)\n",
    "\n",
    "v = venn3(subsets=(n_a, n_b, n_ab, n_c, n_ca, n_bc, n_abc), set_labels=('A', 'B', 'C'))\n",
    "plt.show()"
   ]
  },
  {
   "cell_type": "markdown",
   "id": "d9e8947b-d0d4-4918-937d-2a6a93a151e5",
   "metadata": {},
   "source": [
    "## 8.4 プロット領域の分割\n",
    "### 8.4.1 複数グラフ"
   ]
  },
  {
   "cell_type": "code",
   "execution_count": null,
   "id": "d8aa28f5-3f91-4397-b744-e4576861fd32",
   "metadata": {},
   "outputs": [],
   "source": []
  },
  {
   "cell_type": "code",
   "execution_count": null,
   "id": "d2c43ca1-392f-4084-bf39-b2a5978229ab",
   "metadata": {},
   "outputs": [],
   "source": []
  },
  {
   "cell_type": "code",
   "execution_count": null,
   "id": "161748bb-7724-4c4d-b1ef-cecb32231e19",
   "metadata": {},
   "outputs": [],
   "source": []
  },
  {
   "cell_type": "code",
   "execution_count": null,
   "id": "0a4a8980-4a44-43c3-a339-58942199f0d1",
   "metadata": {},
   "outputs": [],
   "source": []
  }
 ],
 "metadata": {
  "kernelspec": {
   "display_name": "Python 3",
   "language": "python",
   "name": "python3"
  },
  "language_info": {
   "codemirror_mode": {
    "name": "ipython",
    "version": 3
   },
   "file_extension": ".py",
   "mimetype": "text/x-python",
   "name": "python",
   "nbconvert_exporter": "python",
   "pygments_lexer": "ipython3",
   "version": "3.8.2"
  }
 },
 "nbformat": 4,
 "nbformat_minor": 5
}
