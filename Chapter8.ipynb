{
 "cells": [
  {
   "cell_type": "markdown",
   "id": "315f56f7-90d2-48d6-82e2-9c6d691fd33a",
   "metadata": {},
   "source": [
    "# 8 章 : データの可視化（Matplotlib, Seaborn を用いたグラフ作成）\n",
    "----"
   ]
  },
  {
   "cell_type": "markdown",
   "id": "afe1a187-344b-4454-8f01-0a3f9054b349",
   "metadata": {},
   "source": [
    "## 8.1 解析環境のセットアップおよびデータの準備\n",
    "### 8.1.1 可視化ライブラリ"
   ]
  },
  {
   "cell_type": "markdown",
   "id": "abf5e417-9fff-4f6d-a7bb-907eed7eac8c",
   "metadata": {},
   "source": [
    "- Matplotlib\n",
    "  - プロット領域や座標軸等に対する細かい調整が容易にできる\n",
    "  - 高度なグラフも描ける\n",
    "- Seaborn\n",
    "  - Matplotlib を補完する位置付け\n",
    "  - 複雑なグラフを書くときに Matplotlib よりも簡単にコーディングできる"
   ]
  },
  {
   "cell_type": "markdown",
   "id": "4ac68d41-3168-4c0f-90e5-141073b8dce0",
   "metadata": {},
   "source": [
    "### 8.1.2 ライブラリのインストール"
   ]
  },
  {
   "cell_type": "code",
   "execution_count": null,
   "id": "b9127459-2e28-4e5e-b51f-eff5afdcea30",
   "metadata": {},
   "outputs": [],
   "source": [
    "# Matplotlib と Seaborn のインストール\n",
    "!pip3 install matplotlib\n",
    "!pip3 install seaborn\n",
    "\n",
    "# Anaconda を使っている場合はこちら\n",
    "# !conda install matplotlib\n",
    "# !conda install seaborn"
   ]
  },
  {
   "cell_type": "markdown",
   "id": "d607d79c-dd05-4fa8-867e-acab2c3990d3",
   "metadata": {},
   "source": [
    "複数のヒストグラムを縦に並べて描いたり、ベン図を書いたりするのは、Matplotlib や Seaborn だけでは困難なので、JoyPy および matplotlib_venn ライブラリを使用する。"
   ]
  },
  {
   "cell_type": "code",
   "execution_count": null,
   "id": "03f8387d-b829-49cc-bcce-d4283c9c1b79",
   "metadata": {},
   "outputs": [],
   "source": [
    "# JoyPy と matplotlib_venn のインストール\n",
    "!pip3 install joypy\n",
    "!pip3 install matplotlib_venn\n",
    "\n",
    "# Anaconda を使っている場合はこちら\n",
    "# !conda install joypy\n",
    "# !conda install matplotlib_venn"
   ]
  },
  {
   "cell_type": "markdown",
   "id": "06e34d56-56d5-41bb-8f5d-62b07a6fa5b0",
   "metadata": {},
   "source": [
    "# 8.1.3 データセットの準備\n",
    "本章の流れ\n",
    "1. 擬似データを使用してグラフ作成関数の基本的な使い方を説明\n",
    "2. 第 7 章で定量した遺伝子発現量行列を用いて、可視化の応用例を示す  \n",
    "なお、発現量の低い遺伝子は、解析結果の偽陽性を増やす原因になるため、解析前に除去する必要がある。"
   ]
  },
  {
   "cell_type": "code",
   "execution_count": null,
   "id": "b62efe4f-4a7b-4bc3-8003-a7defe6dc8a4",
   "metadata": {},
   "outputs": [],
   "source": [
    "# 8-1 : データの読み込みと発現量の低い遺伝子の除去\n",
    "import numpy as np\n",
    "import pandas as pd\n",
    "\n",
    "tpm = pd.read_table('count_tpm.tsv', index_col=0)\n",
    "tpm = tpm.loc[tpm.means(axis=1) > 1.0, :]  # 平均発現量が 1.0TPM より大きいもののみ取り出す\n",
    "tpm.head()  # データの確認"
   ]
  },
  {
   "cell_type": "markdown",
   "id": "cb331e44-86c3-4a15-8e90-4fdd458956c3",
   "metadata": {},
   "source": [
    "RNA-Seq データの定量で得られるリードカウントデータ、およびそれを正規化した TPM のばらつきは大きい  \n",
    "→ わかりやすく可視化するためにデータの対数化"
   ]
  },
  {
   "cell_type": "code",
   "execution_count": null,
   "id": "9b62c596-6303-4a9c-b546-15504b6a978b",
   "metadata": {},
   "outputs": [],
   "source": [
    "# 8-2 : データの対数化\n",
    "log_tpm = np.log10(tpm + 1.0)  # 真数が 0 になるのを防ぐために、1.0 を足しておく\n",
    "log_tpm.head()"
   ]
  },
  {
   "cell_type": "markdown",
   "id": "3839b068-7f83-47b4-a50c-f696413230a6",
   "metadata": {},
   "source": [
    "## 8.2 Matplotlib ライブラリの使い方\n",
    "### 8.2.1 グラフのプロット領域"
   ]
  },
  {
   "cell_type": "markdown",
   "id": "e97ef164-d068-464a-9442-c2b7c51b61a4",
   "metadata": {},
   "source": [
    "Matplotlib はグラフのプロット領域をいくつかのパーツに分けて、それぞれのパーツをクラスとして定義してある。\n",
    "- Figure クラス : プロット領域全体を含む\n",
    "- Axes クラス : 実際にグラフを描くサブプロット領域を含む\n",
    "\n",
    "Figure クラスに対して、複数の Axis クラスのインスタンスを生成することで、1枚の画像に複数のグラフを描ける"
   ]
  },
  {
   "cell_type": "markdown",
   "id": "a187f370-d53d-4108-ac02-54ef2fdab5e0",
   "metadata": {},
   "source": [
    "<img src=\"matplotlib.jpeg\" width=600>"
   ]
  },
  {
   "cell_type": "markdown",
   "id": "fe49566d-bc78-40cd-8cdd-67e2b9b1b238",
   "metadata": {},
   "source": [
    "### 8.2.2 グラフの作成方法\n",
    "object-oriented インターフェースでグラフを書く手順\n",
    "1. `matplotlib.pyplot.figure()` 関数で Figure クラスのインスタンスを呼び出す\n",
    "2. Figure クラスの `add_subplot()` メソッドで Axes クラスのインスタンスを作成する\n",
    "3. Axes クラスで定義されたサブプロット領域に、Axes クラスで定義された `scatter()` や `hist()` などの作図メソッドを使用してグラフを描く\n",
    "4. 必要に応じて座標軸などのラベルをつける\n",
    "5. Figure クラスの `show()` メソッドを使用してグラフを表示する"
   ]
  },
  {
   "cell_type": "code",
   "execution_count": null,
   "id": "1b15a02e-c44a-4782-afb0-d4f28d54726f",
   "metadata": {},
   "outputs": [],
   "source": [
    "# 8-3 : object-oriented インターフェースでのグラフの描画\n",
    "import matplotlib.pyplot as plt\n",
    "\n",
    "x = [1, 2, 3, 4, 5]\n",
    "y = [2, 4, 6, 8, 10]\n",
    "\n",
    "fig = plt.figure()  # プロット領域を準備\n",
    "ax = fig.add_subplot()  # グラフを描くためのサブプロット領域を用意\n",
    "ax.scatter(x, y)  # 散布図を描く\n",
    "# 軸ラベルを設定\n",
    "ax.set_xlabel('X')\n",
    "ax.set_ylabel('Y')\n",
    "fig.show()  # ディスプレイに表示"
   ]
  },
  {
   "cell_type": "markdown",
   "id": "71b163a2-f83d-431d-bd04-682ea6ae158f",
   "metadata": {},
   "source": [
    "state-based インターフェース\n",
    "- MATLAB の使い方を踏襲した\n",
    "- pyplot が現在操作中の Figure クラスや Axes クラスを自動的に識別して操作し、グラフを作成"
   ]
  },
  {
   "cell_type": "code",
   "execution_count": null,
   "id": "0943ae57-a0b4-463b-a582-e4b3030db6e6",
   "metadata": {},
   "outputs": [],
   "source": [
    "# 8-4 : state-based インターフェースでのグラフの描画\n",
    "x = [1, 2, 3, 4, 5]\n",
    "y = [2, 4, 6, 8, 10]\n",
    "\n",
    "plt.scatter(x, y)  # 自動的にプロット領域とサブプロット領域を用意したうえで散布図を描く\n",
    "\n",
    "# 現在のサブプロット領域のグラフに対して軸ラベルを設定する\n",
    "plt.xlabel('X')\n",
    "plt.ylabel('Y')\n",
    "\n",
    "plt.show()  # ディスプレイに表示"
   ]
  },
  {
   "cell_type": "markdown",
   "id": "b993f105-d9d5-42bd-8a1c-468c705c4070",
   "metadata": {},
   "source": [
    "### 8.2.3 グラフの保存方法\n",
    "`savefig()` メソッドに拡張子付きのファイル名を与えると、Figure クラスのインスタンス上で描かれたグラフが画像ファイルとして保存される\n",
    "- PNG, PDF, SVG, TIFF などほとんどのフォーマットに対応している\n",
    "\n",
    "画像のサイズは `plt.figure()` メソッドの引数 `figsize` を介して指定する\n",
    "- `figsize=(width, height)`\n",
    "- サイズの単位はインチ\n",
    "\n",
    "解像度は引数 `dpi` を介して指定する"
   ]
  },
  {
   "cell_type": "code",
   "execution_count": null,
   "id": "38e0c951-09e9-4502-a712-dd8b0d674850",
   "metadata": {},
   "outputs": [],
   "source": [
    "# 8-5 : グラフを横 6.4 インチ、縦 4.8 インチ、解像度 100dpi の画像として PDF で書き出す\n",
    "x = [1, 2, 3, 4, 5]\n",
    "y = [2, 4, 6, 8, 10]\n",
    "\n",
    "fig - plt.figure(figsize=(6.4, 4.8), dpi=100)\n",
    "ax = fig.add_subplot()\n",
    "ax.scatter(x, y)\n",
    "ax.set_xlabel('X')\n",
    "ax.set_ylabel('Y')\n",
    "fig.savefig('example_scatterplot.pdf')"
   ]
  },
  {
   "cell_type": "markdown",
   "id": "b8eb670e-9ccf-4d09-b408-8faff51a3bf9",
   "metadata": {},
   "source": [
    "state-based インターフェースを使用している場合、`plt.savefig()` メソッドでグラフを画像として保存できる。"
   ]
  },
  {
   "cell_type": "markdown",
   "id": "0ec560f6-5182-42d7-a2d0-fdfc7726867e",
   "metadata": {},
   "source": [
    "### 8.2.4 基本グラフを描くメソッド\n",
    "これらのメソッドは、x 座標および y 座標の配列（リストや pandas の Series でも可）を引数として受け取る  \n",
    "その他に色、マーカーや線の形などを指定する引数も多数用意されている\n",
    "\n",
    "<img src=\"8-2-4.jpeg\" width=600>"
   ]
  },
  {
   "cell_type": "markdown",
   "id": "e13a1333-b4fd-4c22-96e0-842f2d7bb958",
   "metadata": {},
   "source": [
    "### 8.2.5 座標軸や凡例を調整するメソッド\n",
    "座標軸の表示範囲を設定したり、座標の目盛り位置を指定したり、座標軸のスケールを変更したりするためによく使われるメソッド\n",
    "\n",
    "<img src=\"8-2-5.jpeg\" width=600>"
   ]
  },
  {
   "cell_type": "markdown",
   "id": "95448a9f-3f30-4531-ad85-b42aaddab8ca",
   "metadata": {},
   "source": [
    "## 8.3 基本グラフ\n",
    "この節では、ヒストグラム、ボックスプロット、散布図、線グラフ、棒グラフなどの基本的なグラフの作図方法を説明する。\n",
    "\n",
    "### 8.3.1 ヒストグラム"
   ]
  },
  {
   "cell_type": "code",
   "execution_count": null,
   "id": "af18c420-2577-4ccd-8be8-b327195682ff",
   "metadata": {},
   "outputs": [],
   "source": []
  },
  {
   "cell_type": "code",
   "execution_count": null,
   "id": "501c536c-35af-4e2c-9377-41197cc4099f",
   "metadata": {},
   "outputs": [],
   "source": []
  },
  {
   "cell_type": "code",
   "execution_count": null,
   "id": "3a69529d-a29c-472c-9d8a-0bc22e732d5d",
   "metadata": {},
   "outputs": [],
   "source": []
  },
  {
   "cell_type": "code",
   "execution_count": null,
   "id": "538f4a8c-8691-4837-b767-e11a0ee0dff0",
   "metadata": {},
   "outputs": [],
   "source": []
  },
  {
   "cell_type": "code",
   "execution_count": null,
   "id": "52c1c5d9-38f1-48f2-ab0d-f4247352a624",
   "metadata": {},
   "outputs": [],
   "source": []
  }
 ],
 "metadata": {
  "kernelspec": {
   "display_name": "Python 3",
   "language": "python",
   "name": "python3"
  },
  "language_info": {
   "codemirror_mode": {
    "name": "ipython",
    "version": 3
   },
   "file_extension": ".py",
   "mimetype": "text/x-python",
   "name": "python",
   "nbconvert_exporter": "python",
   "pygments_lexer": "ipython3",
   "version": "3.8.2"
  }
 },
 "nbformat": 4,
 "nbformat_minor": 5
}
