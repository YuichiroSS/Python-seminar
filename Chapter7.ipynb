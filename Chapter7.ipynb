{
 "cells": [
  {
   "cell_type": "markdown",
   "id": "6f31358a-30d8-45aa-8621-d5705d3d7c3a",
   "metadata": {},
   "source": [
    "# 第 7 章：RNA-Seq カウントデータの処理\n",
    "----"
   ]
  },
  {
   "cell_type": "markdown",
   "id": "91853ebe-3e1f-4edf-94ab-6fc6313977c2",
   "metadata": {},
   "source": [
    "## 7.1 準備"
   ]
  },
  {
   "cell_type": "markdown",
   "id": "f6bf2885-b226-458c-afbd-475f0e9150e7",
   "metadata": {},
   "source": [
    "### 7.1.1 RNA-Seq とは\n",
    "RNA-Seq とは、mRNA や miRNA の配列をシークエンスして、発現量の定量や新規転写産物の同定を行う手法である。シークエンスで得られたデータ（リード）は、次のステップで解析する。\n",
    "1. リードのトリミング\n",
    "2. ゲノム配列へのマッピング\n",
    "3. マッピングされたリード数を数える\n",
    "4. サンプルごとの総リード数の違いや、遺伝子配列長の違いを補正（正規化）\n",
    "5. 遺伝子ごとの発現量を同定、比較\n",
    "\n",
    "この章では上記ステップのうち 4 以降を扱い、主に pandas を使って処理を行う。"
   ]
  },
  {
   "cell_type": "markdown",
   "id": "cf5ea183-67c8-4e9a-8535-f3645ecac856",
   "metadata": {},
   "source": [
    "### 7.1.2 この章で用いる RNA-Seq データ\n",
    "この章では、異なる 2 条件で培養された酵母 (Saccharomyces cerevisiae) の RNA-Seq データを使用する。この RNA-Seq データは、DDBJ の SRA データベースにアクセッション番号 SRR453566 から SRR453571 の 6 つのデータとして存在している。\n",
    "- SRR453566, SRR453567, SRR453568 : 通常のグルコース濃度培地による Batch 培養のサンプルから得られた\n",
    "- SRR453569, SRR453570, SRR453571 : 低グルコース濃度を維持した培地による Chemostat 培養のサンプルから得られた\n",
    "\n",
    "いずれも Biological triplicates になっている。"
   ]
  },
  {
   "cell_type": "markdown",
   "id": "a47a6fe8-0301-4fa0-9e0b-5c501e065b1b",
   "metadata": {},
   "source": [
    "### 7.1.3 本章で使用するデータファイル\n",
    "- counts.txt\n",
    "- gene_id_product.tsv"
   ]
  },
  {
   "cell_type": "markdown",
   "id": "1300c0f8-18b3-486a-a8ea-828a9c4b473f",
   "metadata": {},
   "source": [
    "## 7.2 データファイルの読み込みとアノテーション\n",
    "### 7.2.1 カウントデータ"
   ]
  },
  {
   "cell_type": "code",
   "execution_count": 1,
   "id": "04117e58-9d80-40c0-8fc2-4a32b8a8a2f4",
   "metadata": {},
   "outputs": [],
   "source": [
    "# 7-2 : 各種インポート\n",
    "import pandas as pd\n",
    "import numpy as np"
   ]
  },
  {
   "cell_type": "code",
   "execution_count": 2,
   "id": "2f143119-8504-49e0-9821-e19c814369a8",
   "metadata": {},
   "outputs": [],
   "source": [
    "# 7-3 : ファイルのパス指定\n",
    "count_file = 'counts.txt'\n",
    "gene_id_product_file = 'gene_id_product.tsv'"
   ]
  },
  {
   "cell_type": "code",
   "execution_count": 3,
   "id": "4568fbac-405c-4ef2-a447-27b30434d482",
   "metadata": {},
   "outputs": [],
   "source": [
    "# 7-4 : ファイル読み込み\n",
    "df = pd.read_table(count_file, index_col=0, skiprows=1)"
   ]
  },
  {
   "cell_type": "markdown",
   "id": "c2ea27a0-cc11-4249-8140-37d8b54f8bc3",
   "metadata": {},
   "source": [
    "- skiprows : DataFrame に読み込まない行 (ファイルの先頭行を 0 として数える)を数字で指定する。リストで指定することもできる\n",
    "  - `skiprows=1` の代わりに `header=1` としても良い\n",
    "- index_col : インデックスとして用いる列を数字で指定する"
   ]
  },
  {
   "cell_type": "markdown",
   "id": "175c34d5-b230-4ba0-8415-fe278e462ee4",
   "metadata": {},
   "source": [
    "### 7.2.2 データの概観"
   ]
  },
  {
   "cell_type": "code",
   "execution_count": 4,
   "id": "ae414557-e583-4651-bb3f-f40825729437",
   "metadata": {},
   "outputs": [
    {
     "data": {
      "text/html": [
       "<div>\n",
       "<style scoped>\n",
       "    .dataframe tbody tr th:only-of-type {\n",
       "        vertical-align: middle;\n",
       "    }\n",
       "\n",
       "    .dataframe tbody tr th {\n",
       "        vertical-align: top;\n",
       "    }\n",
       "\n",
       "    .dataframe thead th {\n",
       "        text-align: right;\n",
       "    }\n",
       "</style>\n",
       "<table border=\"1\" class=\"dataframe\">\n",
       "  <thead>\n",
       "    <tr style=\"text-align: right;\">\n",
       "      <th></th>\n",
       "      <th>Chr</th>\n",
       "      <th>Start</th>\n",
       "      <th>End</th>\n",
       "      <th>Strand</th>\n",
       "      <th>Length</th>\n",
       "      <th>SRR453566.sorted.bam</th>\n",
       "      <th>SRR453567.sorted.bam</th>\n",
       "      <th>SRR453568.sorted.bam</th>\n",
       "      <th>SRR453569.sorted.bam</th>\n",
       "      <th>SRR453570.sorted.bam</th>\n",
       "      <th>SRR453571.sorted.bam</th>\n",
       "    </tr>\n",
       "    <tr>\n",
       "      <th>Geneid</th>\n",
       "      <th></th>\n",
       "      <th></th>\n",
       "      <th></th>\n",
       "      <th></th>\n",
       "      <th></th>\n",
       "      <th></th>\n",
       "      <th></th>\n",
       "      <th></th>\n",
       "      <th></th>\n",
       "      <th></th>\n",
       "      <th></th>\n",
       "    </tr>\n",
       "  </thead>\n",
       "  <tbody>\n",
       "    <tr>\n",
       "      <th>gene_0001</th>\n",
       "      <td>NC_001133.9</td>\n",
       "      <td>1807</td>\n",
       "      <td>2169</td>\n",
       "      <td>-</td>\n",
       "      <td>363</td>\n",
       "      <td>0</td>\n",
       "      <td>2</td>\n",
       "      <td>6</td>\n",
       "      <td>0</td>\n",
       "      <td>0</td>\n",
       "      <td>1</td>\n",
       "    </tr>\n",
       "    <tr>\n",
       "      <th>gene_0002</th>\n",
       "      <td>NC_001133.9</td>\n",
       "      <td>2480</td>\n",
       "      <td>2707</td>\n",
       "      <td>+</td>\n",
       "      <td>228</td>\n",
       "      <td>0</td>\n",
       "      <td>0</td>\n",
       "      <td>0</td>\n",
       "      <td>0</td>\n",
       "      <td>0</td>\n",
       "      <td>0</td>\n",
       "    </tr>\n",
       "    <tr>\n",
       "      <th>gene_0003</th>\n",
       "      <td>NC_001133.9</td>\n",
       "      <td>7235</td>\n",
       "      <td>9016</td>\n",
       "      <td>-</td>\n",
       "      <td>1782</td>\n",
       "      <td>0</td>\n",
       "      <td>0</td>\n",
       "      <td>0</td>\n",
       "      <td>0</td>\n",
       "      <td>0</td>\n",
       "      <td>0</td>\n",
       "    </tr>\n",
       "    <tr>\n",
       "      <th>gene_0004</th>\n",
       "      <td>NC_001133.9</td>\n",
       "      <td>11565</td>\n",
       "      <td>11951</td>\n",
       "      <td>-</td>\n",
       "      <td>387</td>\n",
       "      <td>0</td>\n",
       "      <td>0</td>\n",
       "      <td>0</td>\n",
       "      <td>0</td>\n",
       "      <td>0</td>\n",
       "      <td>0</td>\n",
       "    </tr>\n",
       "    <tr>\n",
       "      <th>gene_0005</th>\n",
       "      <td>NC_001133.9</td>\n",
       "      <td>12046</td>\n",
       "      <td>12426</td>\n",
       "      <td>+</td>\n",
       "      <td>381</td>\n",
       "      <td>2</td>\n",
       "      <td>8</td>\n",
       "      <td>10</td>\n",
       "      <td>6</td>\n",
       "      <td>7</td>\n",
       "      <td>18</td>\n",
       "    </tr>\n",
       "  </tbody>\n",
       "</table>\n",
       "</div>"
      ],
      "text/plain": [
       "                   Chr  Start    End Strand  Length  SRR453566.sorted.bam  \\\n",
       "Geneid                                                                      \n",
       "gene_0001  NC_001133.9   1807   2169      -     363                     0   \n",
       "gene_0002  NC_001133.9   2480   2707      +     228                     0   \n",
       "gene_0003  NC_001133.9   7235   9016      -    1782                     0   \n",
       "gene_0004  NC_001133.9  11565  11951      -     387                     0   \n",
       "gene_0005  NC_001133.9  12046  12426      +     381                     2   \n",
       "\n",
       "           SRR453567.sorted.bam  SRR453568.sorted.bam  SRR453569.sorted.bam  \\\n",
       "Geneid                                                                        \n",
       "gene_0001                     2                     6                     0   \n",
       "gene_0002                     0                     0                     0   \n",
       "gene_0003                     0                     0                     0   \n",
       "gene_0004                     0                     0                     0   \n",
       "gene_0005                     8                    10                     6   \n",
       "\n",
       "           SRR453570.sorted.bam  SRR453571.sorted.bam  \n",
       "Geneid                                                 \n",
       "gene_0001                     0                     1  \n",
       "gene_0002                     0                     0  \n",
       "gene_0003                     0                     0  \n",
       "gene_0004                     0                     0  \n",
       "gene_0005                     7                    18  "
      ]
     },
     "execution_count": 4,
     "metadata": {},
     "output_type": "execute_result"
    }
   ],
   "source": [
    "# 7-5 : 読み込んだファイルの確認\n",
    "df.head()"
   ]
  },
  {
   "cell_type": "code",
   "execution_count": 5,
   "id": "85d026c5-55b9-4322-b908-641f8e62fa0f",
   "metadata": {},
   "outputs": [
    {
     "data": {
      "text/plain": [
       "Geneid\n",
       "gene_0001     1807\n",
       "gene_0002     2480\n",
       "gene_0003     7235\n",
       "gene_0004    11565\n",
       "gene_0005    12046\n",
       "Name: Start, dtype: object"
      ]
     },
     "execution_count": 5,
     "metadata": {},
     "output_type": "execute_result"
    }
   ],
   "source": [
    "# 7-6 : 特定の列 (Start の列) だけ確認\n",
    "df.Start.head()"
   ]
  },
  {
   "cell_type": "code",
   "execution_count": 6,
   "id": "c3f25e5e-dc36-4e94-a9ed-a2109535ea6b",
   "metadata": {},
   "outputs": [
    {
     "data": {
      "text/plain": [
       "(6420, 11)"
      ]
     },
     "execution_count": 6,
     "metadata": {},
     "output_type": "execute_result"
    }
   ],
   "source": [
    "# 7-7 : ファイルの行数と列数の確認\n",
    "df.shape"
   ]
  },
  {
   "cell_type": "markdown",
   "id": "378c1b8d-6053-4332-8854-d00291d4c125",
   "metadata": {},
   "source": [
    "### 7.2.3 列名を変更する"
   ]
  },
  {
   "cell_type": "code",
   "execution_count": 7,
   "id": "240d711a-c9db-4497-865b-0c7d6935dd20",
   "metadata": {},
   "outputs": [],
   "source": [
    "# 7-8 : 列名を変更するための辞書の宣言\n",
    "names = {'SRR453566.sorted.bam': 'batch_1',\n",
    "         'SRR453567.sorted.bam': 'batch_2',\n",
    "         'SRR453568.sorted.bam': 'batch_3',\n",
    "         'SRR453569.sorted.bam': 'chemostat_1',\n",
    "         'SRR453570.sorted.bam': 'chemostat_2',\n",
    "         'SRR453571.sorted.bam': 'chemostat_3',}"
   ]
  },
  {
   "cell_type": "code",
   "execution_count": 8,
   "id": "f06b494e-bb1f-4ba0-b97e-866c21430052",
   "metadata": {},
   "outputs": [],
   "source": [
    "# 7-9 : 列名の変更\n",
    "df = df.rename(mapper=names, axis=1)"
   ]
  },
  {
   "cell_type": "code",
   "execution_count": 9,
   "id": "f129d877-563d-44fb-8736-28491200cc41",
   "metadata": {},
   "outputs": [
    {
     "data": {
      "text/html": [
       "<div>\n",
       "<style scoped>\n",
       "    .dataframe tbody tr th:only-of-type {\n",
       "        vertical-align: middle;\n",
       "    }\n",
       "\n",
       "    .dataframe tbody tr th {\n",
       "        vertical-align: top;\n",
       "    }\n",
       "\n",
       "    .dataframe thead th {\n",
       "        text-align: right;\n",
       "    }\n",
       "</style>\n",
       "<table border=\"1\" class=\"dataframe\">\n",
       "  <thead>\n",
       "    <tr style=\"text-align: right;\">\n",
       "      <th></th>\n",
       "      <th>Chr</th>\n",
       "      <th>Start</th>\n",
       "      <th>End</th>\n",
       "      <th>Strand</th>\n",
       "      <th>Length</th>\n",
       "      <th>batch_1</th>\n",
       "      <th>batch_2</th>\n",
       "      <th>batch_3</th>\n",
       "      <th>chemostat_1</th>\n",
       "      <th>chemostat_2</th>\n",
       "      <th>chemostat_3</th>\n",
       "    </tr>\n",
       "    <tr>\n",
       "      <th>Geneid</th>\n",
       "      <th></th>\n",
       "      <th></th>\n",
       "      <th></th>\n",
       "      <th></th>\n",
       "      <th></th>\n",
       "      <th></th>\n",
       "      <th></th>\n",
       "      <th></th>\n",
       "      <th></th>\n",
       "      <th></th>\n",
       "      <th></th>\n",
       "    </tr>\n",
       "  </thead>\n",
       "  <tbody>\n",
       "    <tr>\n",
       "      <th>gene_0001</th>\n",
       "      <td>NC_001133.9</td>\n",
       "      <td>1807</td>\n",
       "      <td>2169</td>\n",
       "      <td>-</td>\n",
       "      <td>363</td>\n",
       "      <td>0</td>\n",
       "      <td>2</td>\n",
       "      <td>6</td>\n",
       "      <td>0</td>\n",
       "      <td>0</td>\n",
       "      <td>1</td>\n",
       "    </tr>\n",
       "    <tr>\n",
       "      <th>gene_0002</th>\n",
       "      <td>NC_001133.9</td>\n",
       "      <td>2480</td>\n",
       "      <td>2707</td>\n",
       "      <td>+</td>\n",
       "      <td>228</td>\n",
       "      <td>0</td>\n",
       "      <td>0</td>\n",
       "      <td>0</td>\n",
       "      <td>0</td>\n",
       "      <td>0</td>\n",
       "      <td>0</td>\n",
       "    </tr>\n",
       "    <tr>\n",
       "      <th>gene_0003</th>\n",
       "      <td>NC_001133.9</td>\n",
       "      <td>7235</td>\n",
       "      <td>9016</td>\n",
       "      <td>-</td>\n",
       "      <td>1782</td>\n",
       "      <td>0</td>\n",
       "      <td>0</td>\n",
       "      <td>0</td>\n",
       "      <td>0</td>\n",
       "      <td>0</td>\n",
       "      <td>0</td>\n",
       "    </tr>\n",
       "    <tr>\n",
       "      <th>gene_0004</th>\n",
       "      <td>NC_001133.9</td>\n",
       "      <td>11565</td>\n",
       "      <td>11951</td>\n",
       "      <td>-</td>\n",
       "      <td>387</td>\n",
       "      <td>0</td>\n",
       "      <td>0</td>\n",
       "      <td>0</td>\n",
       "      <td>0</td>\n",
       "      <td>0</td>\n",
       "      <td>0</td>\n",
       "    </tr>\n",
       "    <tr>\n",
       "      <th>gene_0005</th>\n",
       "      <td>NC_001133.9</td>\n",
       "      <td>12046</td>\n",
       "      <td>12426</td>\n",
       "      <td>+</td>\n",
       "      <td>381</td>\n",
       "      <td>2</td>\n",
       "      <td>8</td>\n",
       "      <td>10</td>\n",
       "      <td>6</td>\n",
       "      <td>7</td>\n",
       "      <td>18</td>\n",
       "    </tr>\n",
       "  </tbody>\n",
       "</table>\n",
       "</div>"
      ],
      "text/plain": [
       "                   Chr  Start    End Strand  Length  batch_1  batch_2  \\\n",
       "Geneid                                                                  \n",
       "gene_0001  NC_001133.9   1807   2169      -     363        0        2   \n",
       "gene_0002  NC_001133.9   2480   2707      +     228        0        0   \n",
       "gene_0003  NC_001133.9   7235   9016      -    1782        0        0   \n",
       "gene_0004  NC_001133.9  11565  11951      -     387        0        0   \n",
       "gene_0005  NC_001133.9  12046  12426      +     381        2        8   \n",
       "\n",
       "           batch_3  chemostat_1  chemostat_2  chemostat_3  \n",
       "Geneid                                                     \n",
       "gene_0001        6            0            0            1  \n",
       "gene_0002        0            0            0            0  \n",
       "gene_0003        0            0            0            0  \n",
       "gene_0004        0            0            0            0  \n",
       "gene_0005       10            6            7           18  "
      ]
     },
     "execution_count": 9,
     "metadata": {},
     "output_type": "execute_result"
    }
   ],
   "source": [
    "# 7-10 : 変更できたか確認\n",
    "df.head()"
   ]
  },
  {
   "cell_type": "markdown",
   "id": "313ee300-a008-4634-9d0e-823876de839e",
   "metadata": {},
   "source": [
    "### 7.2.4 ミトコンドリア上の遺伝子を除く"
   ]
  },
  {
   "cell_type": "code",
   "execution_count": 10,
   "id": "12b7682e-8d72-407b-9b3f-7d7f4df9ce67",
   "metadata": {},
   "outputs": [],
   "source": [
    "# 7-11 : ミトコンドリア上の遺伝子に一致しないものだけ取り出す\n",
    "df = df[df.Chr != 'NC_001224.1']"
   ]
  },
  {
   "cell_type": "code",
   "execution_count": 11,
   "id": "fc5aa178-5b5b-4315-bf24-dd600ba069ee",
   "metadata": {},
   "outputs": [
    {
     "data": {
      "text/plain": [
       "(6394, 11)"
      ]
     },
     "execution_count": 11,
     "metadata": {},
     "output_type": "execute_result"
    }
   ],
   "source": [
    "# 7-12 : 処理できたか確認 (正しければデータ件数は 6,394 件)\n",
    "df.shape"
   ]
  },
  {
   "cell_type": "markdown",
   "id": "cc2b7968-afe4-426f-98d6-5b9de46b213a",
   "metadata": {},
   "source": [
    "### 7.2.5 アノテーションファイルの読み込み"
   ]
  },
  {
   "cell_type": "code",
   "execution_count": 12,
   "id": "5e8f3487-540b-4b1e-9ffe-a6a537be2565",
   "metadata": {},
   "outputs": [],
   "source": [
    "# 7-13 : ファイルの読み込み\n",
    "gene_products = pd.read_table(gene_id_product_file, index_col=0, names=['gene_id', 'product'])"
   ]
  },
  {
   "cell_type": "markdown",
   "id": "db937da9-d07f-4086-86fd-96c5fcd11601",
   "metadata": {},
   "source": [
    "ヘッダー名を左から `gene_id`, `product` とする。"
   ]
  },
  {
   "cell_type": "code",
   "execution_count": 13,
   "id": "f564164f-6b65-4314-928e-5a82ca71b1b2",
   "metadata": {},
   "outputs": [
    {
     "data": {
      "text/html": [
       "<div>\n",
       "<style scoped>\n",
       "    .dataframe tbody tr th:only-of-type {\n",
       "        vertical-align: middle;\n",
       "    }\n",
       "\n",
       "    .dataframe tbody tr th {\n",
       "        vertical-align: top;\n",
       "    }\n",
       "\n",
       "    .dataframe thead th {\n",
       "        text-align: right;\n",
       "    }\n",
       "</style>\n",
       "<table border=\"1\" class=\"dataframe\">\n",
       "  <thead>\n",
       "    <tr style=\"text-align: right;\">\n",
       "      <th></th>\n",
       "      <th>product</th>\n",
       "    </tr>\n",
       "    <tr>\n",
       "      <th>gene_id</th>\n",
       "      <th></th>\n",
       "    </tr>\n",
       "  </thead>\n",
       "  <tbody>\n",
       "    <tr>\n",
       "      <th>gene_0001</th>\n",
       "      <td>seripauperin PAU8</td>\n",
       "    </tr>\n",
       "    <tr>\n",
       "      <th>gene_0002</th>\n",
       "      <td>hypothetical protein</td>\n",
       "    </tr>\n",
       "    <tr>\n",
       "      <th>gene_0003</th>\n",
       "      <td>putative permease SEO1</td>\n",
       "    </tr>\n",
       "    <tr>\n",
       "      <th>gene_0004</th>\n",
       "      <td>hypothetical protein</td>\n",
       "    </tr>\n",
       "    <tr>\n",
       "      <th>gene_0005</th>\n",
       "      <td>hypothetical protein</td>\n",
       "    </tr>\n",
       "  </tbody>\n",
       "</table>\n",
       "</div>"
      ],
      "text/plain": [
       "                          product\n",
       "gene_id                          \n",
       "gene_0001       seripauperin PAU8\n",
       "gene_0002    hypothetical protein\n",
       "gene_0003  putative permease SEO1\n",
       "gene_0004    hypothetical protein\n",
       "gene_0005    hypothetical protein"
      ]
     },
     "execution_count": 13,
     "metadata": {},
     "output_type": "execute_result"
    }
   ],
   "source": [
    "# 7-14 : ファイルの確認\n",
    "gene_products.head()"
   ]
  },
  {
   "cell_type": "markdown",
   "id": "60da49a9-ae67-4673-93fc-4fdb565b074e",
   "metadata": {},
   "source": [
    "### 7.2.6 カウントデータと description を連結する"
   ]
  },
  {
   "cell_type": "code",
   "execution_count": 14,
   "id": "0ea11301-47ea-48bf-9029-921134853201",
   "metadata": {},
   "outputs": [],
   "source": [
    "# 7-15 : カウントデータとアノテーションファイルの結合\n",
    "df_with_product = gene_products.join(df)"
   ]
  },
  {
   "cell_type": "markdown",
   "id": "7800e360-b8f8-49d4-b3fb-144ed0ef74d3",
   "metadata": {},
   "source": [
    "merge を使った場合  \n",
    "`pd.merge(gene_products, df, left_index=True, right_index=True)`  \n",
    "concat を使った場合  \n",
    "`pd.concat([gene_products, df], axis=1, join='inner')`"
   ]
  },
  {
   "cell_type": "code",
   "execution_count": 15,
   "id": "8877f2bd-325e-4087-a826-6f14211c88c9",
   "metadata": {},
   "outputs": [
    {
     "data": {
      "text/html": [
       "<div>\n",
       "<style scoped>\n",
       "    .dataframe tbody tr th:only-of-type {\n",
       "        vertical-align: middle;\n",
       "    }\n",
       "\n",
       "    .dataframe tbody tr th {\n",
       "        vertical-align: top;\n",
       "    }\n",
       "\n",
       "    .dataframe thead th {\n",
       "        text-align: right;\n",
       "    }\n",
       "</style>\n",
       "<table border=\"1\" class=\"dataframe\">\n",
       "  <thead>\n",
       "    <tr style=\"text-align: right;\">\n",
       "      <th></th>\n",
       "      <th>product</th>\n",
       "      <th>Chr</th>\n",
       "      <th>Start</th>\n",
       "      <th>End</th>\n",
       "      <th>Strand</th>\n",
       "      <th>Length</th>\n",
       "      <th>batch_1</th>\n",
       "      <th>batch_2</th>\n",
       "      <th>batch_3</th>\n",
       "      <th>chemostat_1</th>\n",
       "      <th>chemostat_2</th>\n",
       "      <th>chemostat_3</th>\n",
       "    </tr>\n",
       "    <tr>\n",
       "      <th>gene_id</th>\n",
       "      <th></th>\n",
       "      <th></th>\n",
       "      <th></th>\n",
       "      <th></th>\n",
       "      <th></th>\n",
       "      <th></th>\n",
       "      <th></th>\n",
       "      <th></th>\n",
       "      <th></th>\n",
       "      <th></th>\n",
       "      <th></th>\n",
       "      <th></th>\n",
       "    </tr>\n",
       "  </thead>\n",
       "  <tbody>\n",
       "    <tr>\n",
       "      <th>gene_0001</th>\n",
       "      <td>seripauperin PAU8</td>\n",
       "      <td>NC_001133.9</td>\n",
       "      <td>1807</td>\n",
       "      <td>2169</td>\n",
       "      <td>-</td>\n",
       "      <td>363</td>\n",
       "      <td>0</td>\n",
       "      <td>2</td>\n",
       "      <td>6</td>\n",
       "      <td>0</td>\n",
       "      <td>0</td>\n",
       "      <td>1</td>\n",
       "    </tr>\n",
       "    <tr>\n",
       "      <th>gene_0002</th>\n",
       "      <td>hypothetical protein</td>\n",
       "      <td>NC_001133.9</td>\n",
       "      <td>2480</td>\n",
       "      <td>2707</td>\n",
       "      <td>+</td>\n",
       "      <td>228</td>\n",
       "      <td>0</td>\n",
       "      <td>0</td>\n",
       "      <td>0</td>\n",
       "      <td>0</td>\n",
       "      <td>0</td>\n",
       "      <td>0</td>\n",
       "    </tr>\n",
       "    <tr>\n",
       "      <th>gene_0003</th>\n",
       "      <td>putative permease SEO1</td>\n",
       "      <td>NC_001133.9</td>\n",
       "      <td>7235</td>\n",
       "      <td>9016</td>\n",
       "      <td>-</td>\n",
       "      <td>1782</td>\n",
       "      <td>0</td>\n",
       "      <td>0</td>\n",
       "      <td>0</td>\n",
       "      <td>0</td>\n",
       "      <td>0</td>\n",
       "      <td>0</td>\n",
       "    </tr>\n",
       "    <tr>\n",
       "      <th>gene_0004</th>\n",
       "      <td>hypothetical protein</td>\n",
       "      <td>NC_001133.9</td>\n",
       "      <td>11565</td>\n",
       "      <td>11951</td>\n",
       "      <td>-</td>\n",
       "      <td>387</td>\n",
       "      <td>0</td>\n",
       "      <td>0</td>\n",
       "      <td>0</td>\n",
       "      <td>0</td>\n",
       "      <td>0</td>\n",
       "      <td>0</td>\n",
       "    </tr>\n",
       "    <tr>\n",
       "      <th>gene_0005</th>\n",
       "      <td>hypothetical protein</td>\n",
       "      <td>NC_001133.9</td>\n",
       "      <td>12046</td>\n",
       "      <td>12426</td>\n",
       "      <td>+</td>\n",
       "      <td>381</td>\n",
       "      <td>2</td>\n",
       "      <td>8</td>\n",
       "      <td>10</td>\n",
       "      <td>6</td>\n",
       "      <td>7</td>\n",
       "      <td>18</td>\n",
       "    </tr>\n",
       "  </tbody>\n",
       "</table>\n",
       "</div>"
      ],
      "text/plain": [
       "                          product          Chr  Start    End Strand  Length  \\\n",
       "gene_id                                                                       \n",
       "gene_0001       seripauperin PAU8  NC_001133.9   1807   2169      -     363   \n",
       "gene_0002    hypothetical protein  NC_001133.9   2480   2707      +     228   \n",
       "gene_0003  putative permease SEO1  NC_001133.9   7235   9016      -    1782   \n",
       "gene_0004    hypothetical protein  NC_001133.9  11565  11951      -     387   \n",
       "gene_0005    hypothetical protein  NC_001133.9  12046  12426      +     381   \n",
       "\n",
       "           batch_1  batch_2  batch_3  chemostat_1  chemostat_2  chemostat_3  \n",
       "gene_id                                                                      \n",
       "gene_0001        0        2        6            0            0            1  \n",
       "gene_0002        0        0        0            0            0            0  \n",
       "gene_0003        0        0        0            0            0            0  \n",
       "gene_0004        0        0        0            0            0            0  \n",
       "gene_0005        2        8       10            6            7           18  "
      ]
     },
     "execution_count": 15,
     "metadata": {},
     "output_type": "execute_result"
    }
   ],
   "source": [
    "# 7-16 : 結合したデータフレームの確認\n",
    "df_with_product.head()"
   ]
  },
  {
   "cell_type": "markdown",
   "id": "19d6d954-2983-4029-a69f-a3ba60d19de8",
   "metadata": {},
   "source": [
    "### 7.2.7 カウントデータ部分の切り出し"
   ]
  },
  {
   "cell_type": "code",
   "execution_count": 16,
   "id": "5277a987-ae65-44c2-81cc-78bbbf2328f8",
   "metadata": {},
   "outputs": [],
   "source": [
    "# 7-17 : raw カウントの部分の切り出し\n",
    "df_count = df_with_product[['batch_1', 'batch_2', 'batch_3', 'chemostat_1', 'chemostat_2', 'chemostat_3']]"
   ]
  },
  {
   "cell_type": "markdown",
   "id": "9a6be805-bdf3-4d9b-9099-b707bf0175e3",
   "metadata": {},
   "source": [
    "スライスで指定する場合は `df_with_product.iloc[:, 6:12]`"
   ]
  },
  {
   "cell_type": "markdown",
   "id": "7c97eed0-1c22-4f8c-8eb3-e0d39ec2dafb",
   "metadata": {},
   "source": [
    "### 7.2.8 ファイルの保存"
   ]
  },
  {
   "cell_type": "code",
   "execution_count": 17,
   "id": "fecc38ad-4490-4489-8141-09505967d9c5",
   "metadata": {},
   "outputs": [
    {
     "name": "stdout",
     "output_type": "stream",
     "text": [
      "mkdir: output: File exists\n"
     ]
    }
   ],
   "source": [
    "# 7-17.5 : 作業ディレクトリに output ディレクトリの用意\n",
    "%mkdir output"
   ]
  },
  {
   "cell_type": "code",
   "execution_count": 18,
   "id": "00f1ec12-32ad-4829-ae7b-d6b18ba4f751",
   "metadata": {},
   "outputs": [],
   "source": [
    "# 7-18 : アノテーション付きカウントデータを保存\n",
    "df_with_product.to_csv('output/count_preprocessed.tsv', sep='\\t')"
   ]
  },
  {
   "cell_type": "code",
   "execution_count": 19,
   "id": "95961ccf-32b4-4cc9-afc7-389f4663f6f3",
   "metadata": {},
   "outputs": [],
   "source": [
    "# 7-19 : raw カウントのデータを保存\n",
    "df_count.to_csv('output/count_raw.tsv', sep='\\t')"
   ]
  },
  {
   "cell_type": "code",
   "execution_count": 20,
   "id": "094eeba4-86cc-4b45-a2c4-b6ccc4ba870d",
   "metadata": {},
   "outputs": [
    {
     "name": "stdout",
     "output_type": "stream",
     "text": [
      "gene_id\tbatch_1\tbatch_2\tbatch_3\tchemostat_1\tchemostat_2\tchemostat_3\n",
      "gene_0001\t0\t2\t6\t0\t0\t1\n",
      "gene_0002\t0\t0\t0\t0\t0\t0\n",
      "gene_0003\t0\t0\t0\t0\t0\t0\n",
      "gene_0004\t0\t0\t0\t0\t0\t0\n",
      "gene_0005\t2\t8\t10\t6\t7\t18\n",
      "gene_0006\t0\t0\t0\t0\t0\t0\n",
      "gene_0007\t0\t0\t0\t0\t0\t0\n",
      "gene_0008\t0\t0\t0\t0\t0\t0\n",
      "gene_0009\t32\t37\t33\t43\t63\t84\n"
     ]
    }
   ],
   "source": [
    "%%bash\n",
    "head output/count_raw.tsv\n",
    "\n",
    "# 7-20 : 保存したデータの確認\n",
    "# マジックコマンドはセルの先頭にないと動かない"
   ]
  },
  {
   "cell_type": "markdown",
   "id": "42baed05-318c-47ea-9a05-cab7a1feac02",
   "metadata": {},
   "source": [
    "## 7.3 カウントデータの正規化\n",
    "### 7.3.1 リード数で正規化（RPM / FPM）"
   ]
  },
  {
   "cell_type": "code",
   "execution_count": 21,
   "id": "661ac6c4-e5ba-4cd7-8d9c-4f41b9a8c334",
   "metadata": {},
   "outputs": [],
   "source": [
    "# 7-21 : df_count を別の DataFrame としてコピー\n",
    "df_tmp = df_count.copy()"
   ]
  },
  {
   "cell_type": "code",
   "execution_count": 22,
   "id": "dc4d90ce-64e1-498f-96e9-281f501d49fa",
   "metadata": {},
   "outputs": [
    {
     "data": {
      "text/plain": [
       "batch_1        4565008\n",
       "batch_2        6253117\n",
       "batch_3        4524000\n",
       "chemostat_1    3073975\n",
       "chemostat_2    3869518\n",
       "chemostat_3    4902464\n",
       "dtype: int64"
      ]
     },
     "execution_count": 22,
     "metadata": {},
     "output_type": "execute_result"
    }
   ],
   "source": [
    "# 7-22 : リード数の合計を確認\n",
    "sum_count = df_tmp.sum()\n",
    "sum_count"
   ]
  },
  {
   "cell_type": "code",
   "execution_count": 23,
   "id": "68e3de24-e10b-4fe7-92d8-66e6e07e67fd",
   "metadata": {},
   "outputs": [
    {
     "data": {
      "text/html": [
       "<div>\n",
       "<style scoped>\n",
       "    .dataframe tbody tr th:only-of-type {\n",
       "        vertical-align: middle;\n",
       "    }\n",
       "\n",
       "    .dataframe tbody tr th {\n",
       "        vertical-align: top;\n",
       "    }\n",
       "\n",
       "    .dataframe thead th {\n",
       "        text-align: right;\n",
       "    }\n",
       "</style>\n",
       "<table border=\"1\" class=\"dataframe\">\n",
       "  <thead>\n",
       "    <tr style=\"text-align: right;\">\n",
       "      <th></th>\n",
       "      <th>batch_1</th>\n",
       "      <th>batch_2</th>\n",
       "      <th>batch_3</th>\n",
       "      <th>chemostat_1</th>\n",
       "      <th>chemostat_2</th>\n",
       "      <th>chemostat_3</th>\n",
       "    </tr>\n",
       "    <tr>\n",
       "      <th>gene_id</th>\n",
       "      <th></th>\n",
       "      <th></th>\n",
       "      <th></th>\n",
       "      <th></th>\n",
       "      <th></th>\n",
       "      <th></th>\n",
       "    </tr>\n",
       "  </thead>\n",
       "  <tbody>\n",
       "    <tr>\n",
       "      <th>gene_0001</th>\n",
       "      <td>0.000000</td>\n",
       "      <td>0.319840</td>\n",
       "      <td>1.326260</td>\n",
       "      <td>0.00000</td>\n",
       "      <td>0.000000</td>\n",
       "      <td>0.203979</td>\n",
       "    </tr>\n",
       "    <tr>\n",
       "      <th>gene_0002</th>\n",
       "      <td>0.000000</td>\n",
       "      <td>0.000000</td>\n",
       "      <td>0.000000</td>\n",
       "      <td>0.00000</td>\n",
       "      <td>0.000000</td>\n",
       "      <td>0.000000</td>\n",
       "    </tr>\n",
       "    <tr>\n",
       "      <th>gene_0003</th>\n",
       "      <td>0.000000</td>\n",
       "      <td>0.000000</td>\n",
       "      <td>0.000000</td>\n",
       "      <td>0.00000</td>\n",
       "      <td>0.000000</td>\n",
       "      <td>0.000000</td>\n",
       "    </tr>\n",
       "    <tr>\n",
       "      <th>gene_0004</th>\n",
       "      <td>0.000000</td>\n",
       "      <td>0.000000</td>\n",
       "      <td>0.000000</td>\n",
       "      <td>0.00000</td>\n",
       "      <td>0.000000</td>\n",
       "      <td>0.000000</td>\n",
       "    </tr>\n",
       "    <tr>\n",
       "      <th>gene_0005</th>\n",
       "      <td>0.438115</td>\n",
       "      <td>1.279362</td>\n",
       "      <td>2.210433</td>\n",
       "      <td>1.95187</td>\n",
       "      <td>1.809011</td>\n",
       "      <td>3.671623</td>\n",
       "    </tr>\n",
       "  </tbody>\n",
       "</table>\n",
       "</div>"
      ],
      "text/plain": [
       "            batch_1   batch_2   batch_3  chemostat_1  chemostat_2  chemostat_3\n",
       "gene_id                                                                       \n",
       "gene_0001  0.000000  0.319840  1.326260      0.00000     0.000000     0.203979\n",
       "gene_0002  0.000000  0.000000  0.000000      0.00000     0.000000     0.000000\n",
       "gene_0003  0.000000  0.000000  0.000000      0.00000     0.000000     0.000000\n",
       "gene_0004  0.000000  0.000000  0.000000      0.00000     0.000000     0.000000\n",
       "gene_0005  0.438115  1.279362  2.210433      1.95187     1.809011     3.671623"
      ]
     },
     "execution_count": 23,
     "metadata": {},
     "output_type": "execute_result"
    }
   ],
   "source": [
    "# 7-23 : 100 万リードあたりのカウント数に揃える\n",
    "df_tmp = 10**6 * df_tmp / sum_count\n",
    "df_tmp.head()"
   ]
  },
  {
   "cell_type": "markdown",
   "id": "aef10c96-cf84-4133-b448-0476dfa5f2a0",
   "metadata": {},
   "source": [
    "`**` は冪乗演算子"
   ]
  },
  {
   "cell_type": "code",
   "execution_count": 24,
   "id": "6e73cd9b-9308-4d79-af1c-6bbe40ae2c29",
   "metadata": {},
   "outputs": [
    {
     "data": {
      "text/plain": [
       "batch_1        1000000.0\n",
       "batch_2        1000000.0\n",
       "batch_3        1000000.0\n",
       "chemostat_1    1000000.0\n",
       "chemostat_2    1000000.0\n",
       "chemostat_3    1000000.0\n",
       "dtype: float64"
      ]
     },
     "execution_count": 24,
     "metadata": {},
     "output_type": "execute_result"
    }
   ],
   "source": [
    "# 7-24 : リード数の合計が 100 万に揃っているか確認\n",
    "df_tmp.sum()"
   ]
  },
  {
   "cell_type": "code",
   "execution_count": 25,
   "id": "2996aad0-9b09-4d98-aa63-39ebc4df699e",
   "metadata": {},
   "outputs": [],
   "source": [
    "# 7-25 : FPM 正規化を関数化\n",
    "def normalize_per_million_reads(df):\n",
    "    sum_count = df.sum()\n",
    "    return 10**6 * df / sum_count"
   ]
  },
  {
   "cell_type": "code",
   "execution_count": 26,
   "id": "2b326224-d24a-401b-a908-97e241dfd011",
   "metadata": {},
   "outputs": [],
   "source": [
    "# 7-26 : 実際に関数を使ってみる\n",
    "df_count_fpm = normalize_per_million_reads(df_count)"
   ]
  },
  {
   "cell_type": "code",
   "execution_count": 27,
   "id": "e1e35920-0cf8-4016-a73c-2752c5f5887f",
   "metadata": {},
   "outputs": [
    {
     "data": {
      "text/plain": [
       "batch_1        1000000.0\n",
       "batch_2        1000000.0\n",
       "batch_3        1000000.0\n",
       "chemostat_1    1000000.0\n",
       "chemostat_2    1000000.0\n",
       "chemostat_3    1000000.0\n",
       "dtype: float64"
      ]
     },
     "execution_count": 27,
     "metadata": {},
     "output_type": "execute_result"
    }
   ],
   "source": [
    "# 7-27 : リード数の合計が揃っているか確認\n",
    "df_count_fpm.sum()"
   ]
  },
  {
   "cell_type": "code",
   "execution_count": 28,
   "id": "2e4a2840-4e29-4510-8a48-16b8fb0316bc",
   "metadata": {},
   "outputs": [],
   "source": [
    "# 7-28 : FPM 正規化を行った結果を保存\n",
    "df_count_fpm.to_csv('output/count_fpm.tsv', sep='\\t')"
   ]
  },
  {
   "cell_type": "markdown",
   "id": "83fa5c46-0ae7-4a98-bbe2-8e8c95b070a2",
   "metadata": {},
   "source": [
    "### 7.3.2 遺伝子長による正規化（RPKM / FPKM）"
   ]
  },
  {
   "cell_type": "markdown",
   "id": "73d78f4d-0da5-4f09-b689-37d195eaf484",
   "metadata": {},
   "source": [
    "FPM をさらに遺伝子長で割って FPKM を求める  \n",
    "FPKM : fragments per kilobase of exon per million reads mapped  \n",
    "RPKM : reads per kilobase of exon per million reads mapped (single-end の場合)  \n",
    "この 2 つはほぼ同じ意味で用いられる"
   ]
  },
  {
   "cell_type": "code",
   "execution_count": 29,
   "id": "90a15eaa-942f-499b-906a-6b66d277e23b",
   "metadata": {},
   "outputs": [],
   "source": [
    "# 7-29 : テスト用に df_count_fpm をコピーしておく\n",
    "df_tmp = df_count_fpm.copy()"
   ]
  },
  {
   "cell_type": "code",
   "execution_count": 30,
   "id": "8e1e7cc9-9e08-4bed-b694-bb41393b5709",
   "metadata": {},
   "outputs": [],
   "source": [
    "# 7-30 : アノテーションをつけたカウントデータから遺伝子の長さを抽出しておく\n",
    "gene_length = df_with_product['Length']"
   ]
  },
  {
   "cell_type": "markdown",
   "id": "24b5730e-1f7a-4afc-8a87-b97dc8f3c40f",
   "metadata": {},
   "source": [
    "FPM 正規化したカウントデータを書く遺伝子の長さで割るが、次のように書くと縦方向にブロードキャストされてしまうためうまくいかない  \n",
    "`df_tmp / gene_length`  \n",
    "これを 1 列ずつ計算することはできる  \n",
    "`df_tmp['batch_1'] / gene_length * 10**3`"
   ]
  },
  {
   "cell_type": "markdown",
   "id": "369b4578-a821-488b-9a50-07983cef5e85",
   "metadata": {},
   "source": [
    "#### for ループを使う方法"
   ]
  },
  {
   "cell_type": "code",
   "execution_count": 31,
   "id": "f045c976-0ffa-49e5-9655-36984eed6c67",
   "metadata": {},
   "outputs": [
    {
     "name": "stdout",
     "output_type": "stream",
     "text": [
      "1.63 ms ± 8.13 µs per loop (mean ± std. dev. of 7 runs, 1000 loops each)\n"
     ]
    }
   ],
   "source": [
    "%%timeit\n",
    "# 7-31 : for ループで回すと列名が取得できるのでそれを利用\n",
    "df_tmp = df_count_fpm.copy()\n",
    "for col_name in df_tmp:\n",
    "    df_tmp[col_name] = df_tmp[col_name] / gene_length * 10**3"
   ]
  },
  {
   "cell_type": "code",
   "execution_count": 32,
   "id": "f87c7082-d6f8-4693-ae7a-694ef884e80e",
   "metadata": {},
   "outputs": [
    {
     "data": {
      "text/html": [
       "<div>\n",
       "<style scoped>\n",
       "    .dataframe tbody tr th:only-of-type {\n",
       "        vertical-align: middle;\n",
       "    }\n",
       "\n",
       "    .dataframe tbody tr th {\n",
       "        vertical-align: top;\n",
       "    }\n",
       "\n",
       "    .dataframe thead th {\n",
       "        text-align: right;\n",
       "    }\n",
       "</style>\n",
       "<table border=\"1\" class=\"dataframe\">\n",
       "  <thead>\n",
       "    <tr style=\"text-align: right;\">\n",
       "      <th></th>\n",
       "      <th>batch_1</th>\n",
       "      <th>batch_2</th>\n",
       "      <th>batch_3</th>\n",
       "      <th>chemostat_1</th>\n",
       "      <th>chemostat_2</th>\n",
       "      <th>chemostat_3</th>\n",
       "    </tr>\n",
       "    <tr>\n",
       "      <th>gene_id</th>\n",
       "      <th></th>\n",
       "      <th></th>\n",
       "      <th></th>\n",
       "      <th></th>\n",
       "      <th></th>\n",
       "      <th></th>\n",
       "    </tr>\n",
       "  </thead>\n",
       "  <tbody>\n",
       "    <tr>\n",
       "      <th>gene_0001</th>\n",
       "      <td>0.000000</td>\n",
       "      <td>0.319840</td>\n",
       "      <td>1.326260</td>\n",
       "      <td>0.00000</td>\n",
       "      <td>0.000000</td>\n",
       "      <td>0.203979</td>\n",
       "    </tr>\n",
       "    <tr>\n",
       "      <th>gene_0002</th>\n",
       "      <td>0.000000</td>\n",
       "      <td>0.000000</td>\n",
       "      <td>0.000000</td>\n",
       "      <td>0.00000</td>\n",
       "      <td>0.000000</td>\n",
       "      <td>0.000000</td>\n",
       "    </tr>\n",
       "    <tr>\n",
       "      <th>gene_0003</th>\n",
       "      <td>0.000000</td>\n",
       "      <td>0.000000</td>\n",
       "      <td>0.000000</td>\n",
       "      <td>0.00000</td>\n",
       "      <td>0.000000</td>\n",
       "      <td>0.000000</td>\n",
       "    </tr>\n",
       "    <tr>\n",
       "      <th>gene_0004</th>\n",
       "      <td>0.000000</td>\n",
       "      <td>0.000000</td>\n",
       "      <td>0.000000</td>\n",
       "      <td>0.00000</td>\n",
       "      <td>0.000000</td>\n",
       "      <td>0.000000</td>\n",
       "    </tr>\n",
       "    <tr>\n",
       "      <th>gene_0005</th>\n",
       "      <td>0.438115</td>\n",
       "      <td>1.279362</td>\n",
       "      <td>2.210433</td>\n",
       "      <td>1.95187</td>\n",
       "      <td>1.809011</td>\n",
       "      <td>3.671623</td>\n",
       "    </tr>\n",
       "  </tbody>\n",
       "</table>\n",
       "</div>"
      ],
      "text/plain": [
       "            batch_1   batch_2   batch_3  chemostat_1  chemostat_2  chemostat_3\n",
       "gene_id                                                                       \n",
       "gene_0001  0.000000  0.319840  1.326260      0.00000     0.000000     0.203979\n",
       "gene_0002  0.000000  0.000000  0.000000      0.00000     0.000000     0.000000\n",
       "gene_0003  0.000000  0.000000  0.000000      0.00000     0.000000     0.000000\n",
       "gene_0004  0.000000  0.000000  0.000000      0.00000     0.000000     0.000000\n",
       "gene_0005  0.438115  1.279362  2.210433      1.95187     1.809011     3.671623"
      ]
     },
     "execution_count": 32,
     "metadata": {},
     "output_type": "execute_result"
    }
   ],
   "source": [
    "# 7-32 : 中身の確認\n",
    "df_tmp.head()"
   ]
  },
  {
   "cell_type": "code",
   "execution_count": 33,
   "id": "be45f228-fc56-4df3-aff8-6147ddcc5e51",
   "metadata": {},
   "outputs": [
    {
     "name": "stdout",
     "output_type": "stream",
     "text": [
      "1.61 ms ± 2.97 µs per loop (mean ± std. dev. of 7 runs, 1000 loops each)\n"
     ]
    }
   ],
   "source": [
    "%%timeit\n",
    "# 7-33 : iteritems() を使ってもできる\n",
    "df_tmp = df_count_fpm.copy()\n",
    "for col_name, col in df_tmp.iteritems():\n",
    "    df_tmp[col_name] = col / gene_length * 10**3"
   ]
  },
  {
   "cell_type": "markdown",
   "id": "a2ded5b8-3afa-4b2c-bef1-10e08d17c1ea",
   "metadata": {},
   "source": [
    "#### データフレームを転置してから計算する方法\n",
    "1. FPM 正規化したカウントデータを `df_tmp` としてコピー\n",
    "2. `df_tmp` を転置して FPM を遺伝子長で割り、1000 をかける\n",
    "3. もう一度転置する"
   ]
  },
  {
   "cell_type": "code",
   "execution_count": 34,
   "id": "549da603-1ced-4a74-9353-57fcbe5adbf1",
   "metadata": {},
   "outputs": [
    {
     "name": "stdout",
     "output_type": "stream",
     "text": [
      "994 µs ± 5.39 µs per loop (mean ± std. dev. of 7 runs, 1000 loops each)\n"
     ]
    }
   ],
   "source": [
    "%%timeit\n",
    "# 7-34 : データフレームを転置してから計算\n",
    "df_tmp = df_count_fpm.copy()\n",
    "df_tmp = df_tmp.T / gene_length * 10**3\n",
    "df_tmp = df_tmp.T"
   ]
  },
  {
   "cell_type": "markdown",
   "id": "10b0140b-d362-4962-8911-fdfc51e278b2",
   "metadata": {},
   "source": [
    "#### apply() を使い各列に関数を適用する方法"
   ]
  },
  {
   "cell_type": "code",
   "execution_count": 35,
   "id": "153a1b79-2d7f-4f4e-ad88-5a3a2b486f3f",
   "metadata": {},
   "outputs": [],
   "source": [
    "# 7-35 : 列を入力とし、各要素を遺伝子長で割る行う関数の定義\n",
    "def divide_by_length(S):\n",
    "    return S / gene_length * 10**3"
   ]
  },
  {
   "cell_type": "code",
   "execution_count": 36,
   "id": "031fba62-9e3e-4130-8f07-6669def575fb",
   "metadata": {},
   "outputs": [
    {
     "name": "stdout",
     "output_type": "stream",
     "text": [
      "1.75 ms ± 9.35 µs per loop (mean ± std. dev. of 7 runs, 1000 loops each)\n"
     ]
    }
   ],
   "source": [
    "%%timeit\n",
    "# 7-36 : 定義した関数の適用\n",
    "df_tmp = df_count_fpm.copy().apply(divide_by_length)"
   ]
  },
  {
   "cell_type": "markdown",
   "id": "9e03fb66-e985-4c68-86d1-fb7175577340",
   "metadata": {},
   "source": [
    "#### divide() を使用する方法"
   ]
  },
  {
   "cell_type": "code",
   "execution_count": 37,
   "id": "71aec464-d1aa-429e-a66e-7ffe23fbc0b6",
   "metadata": {},
   "outputs": [
    {
     "name": "stdout",
     "output_type": "stream",
     "text": [
      "300 µs ± 3.98 µs per loop (mean ± std. dev. of 7 runs, 1000 loops each)\n"
     ]
    }
   ],
   "source": [
    "%%timeit\n",
    "# 7-37 : divide() を使う方法\n",
    "df_tmp = df_count_fpm.copy()\n",
    "df_tmp = df_tmp.divide(gene_length, axis='index') * 10**3"
   ]
  },
  {
   "cell_type": "code",
   "execution_count": 38,
   "id": "5835f927-199d-490b-86b4-3d140a39ef32",
   "metadata": {},
   "outputs": [],
   "source": [
    "# 7-38 : データフレームを転置させて計算する関数の定義\n",
    "def normalize_per_kilobase(df, gene_length):\n",
    "    df_tmp = df.copy()\n",
    "    df_tmp = (df.T * 10**3 / gene_length).T\n",
    "    return df_tmp"
   ]
  },
  {
   "cell_type": "code",
   "execution_count": 39,
   "id": "784d2da7-4722-4e71-848d-ef571bf5303d",
   "metadata": {},
   "outputs": [
    {
     "data": {
      "text/html": [
       "<div>\n",
       "<style scoped>\n",
       "    .dataframe tbody tr th:only-of-type {\n",
       "        vertical-align: middle;\n",
       "    }\n",
       "\n",
       "    .dataframe tbody tr th {\n",
       "        vertical-align: top;\n",
       "    }\n",
       "\n",
       "    .dataframe thead th {\n",
       "        text-align: right;\n",
       "    }\n",
       "</style>\n",
       "<table border=\"1\" class=\"dataframe\">\n",
       "  <thead>\n",
       "    <tr style=\"text-align: right;\">\n",
       "      <th></th>\n",
       "      <th>batch_1</th>\n",
       "      <th>batch_2</th>\n",
       "      <th>batch_3</th>\n",
       "      <th>chemostat_1</th>\n",
       "      <th>chemostat_2</th>\n",
       "      <th>chemostat_3</th>\n",
       "    </tr>\n",
       "    <tr>\n",
       "      <th>gene_id</th>\n",
       "      <th></th>\n",
       "      <th></th>\n",
       "      <th></th>\n",
       "      <th></th>\n",
       "      <th></th>\n",
       "      <th></th>\n",
       "    </tr>\n",
       "  </thead>\n",
       "  <tbody>\n",
       "    <tr>\n",
       "      <th>gene_0001</th>\n",
       "      <td>0.000000</td>\n",
       "      <td>0.881103</td>\n",
       "      <td>3.653609</td>\n",
       "      <td>0.000000</td>\n",
       "      <td>0.00000</td>\n",
       "      <td>0.561926</td>\n",
       "    </tr>\n",
       "    <tr>\n",
       "      <th>gene_0002</th>\n",
       "      <td>0.000000</td>\n",
       "      <td>0.000000</td>\n",
       "      <td>0.000000</td>\n",
       "      <td>0.000000</td>\n",
       "      <td>0.00000</td>\n",
       "      <td>0.000000</td>\n",
       "    </tr>\n",
       "    <tr>\n",
       "      <th>gene_0003</th>\n",
       "      <td>0.000000</td>\n",
       "      <td>0.000000</td>\n",
       "      <td>0.000000</td>\n",
       "      <td>0.000000</td>\n",
       "      <td>0.00000</td>\n",
       "      <td>0.000000</td>\n",
       "    </tr>\n",
       "    <tr>\n",
       "      <th>gene_0004</th>\n",
       "      <td>0.000000</td>\n",
       "      <td>0.000000</td>\n",
       "      <td>0.000000</td>\n",
       "      <td>0.000000</td>\n",
       "      <td>0.00000</td>\n",
       "      <td>0.000000</td>\n",
       "    </tr>\n",
       "    <tr>\n",
       "      <th>gene_0005</th>\n",
       "      <td>1.149909</td>\n",
       "      <td>3.357905</td>\n",
       "      <td>5.801662</td>\n",
       "      <td>5.123019</td>\n",
       "      <td>4.74806</td>\n",
       "      <td>9.636806</td>\n",
       "    </tr>\n",
       "  </tbody>\n",
       "</table>\n",
       "</div>"
      ],
      "text/plain": [
       "            batch_1   batch_2   batch_3  chemostat_1  chemostat_2  chemostat_3\n",
       "gene_id                                                                       \n",
       "gene_0001  0.000000  0.881103  3.653609     0.000000      0.00000     0.561926\n",
       "gene_0002  0.000000  0.000000  0.000000     0.000000      0.00000     0.000000\n",
       "gene_0003  0.000000  0.000000  0.000000     0.000000      0.00000     0.000000\n",
       "gene_0004  0.000000  0.000000  0.000000     0.000000      0.00000     0.000000\n",
       "gene_0005  1.149909  3.357905  5.801662     5.123019      4.74806     9.636806"
      ]
     },
     "execution_count": 39,
     "metadata": {},
     "output_type": "execute_result"
    }
   ],
   "source": [
    "# 7-39 : 関数の適用、結果確認\n",
    "df_count_fpkm = normalize_per_kilobase(df_count_fpm, gene_length)\n",
    "df_count_fpkm.head()"
   ]
  },
  {
   "cell_type": "code",
   "execution_count": 40,
   "id": "ee36c607-78fc-4871-b447-af0f53b1906e",
   "metadata": {},
   "outputs": [],
   "source": [
    "# 7-40 : 結果の保存\n",
    "df_count_fpkm.to_csv('output/count_fpkm.tsv', sep='\\t')"
   ]
  },
  {
   "cell_type": "markdown",
   "id": "59b7426b-9584-47ad-8bf3-dfc736dd8ed9",
   "metadata": {},
   "source": [
    "### 7.3.3 TPM 正規化\n",
    "TPM : transcripts per million  \n",
    "長さ 1,000bp あたりのリード数を求めてから、総リード数を 100 万に揃える"
   ]
  },
  {
   "cell_type": "code",
   "execution_count": 41,
   "id": "3eae4c1a-46ec-4901-956c-fc1ff32ea243",
   "metadata": {},
   "outputs": [],
   "source": [
    "# 7-41 : カウントファイルの準備\n",
    "df_tmp = df_count.copy()"
   ]
  },
  {
   "cell_type": "code",
   "execution_count": 42,
   "id": "1399ffa7-e9df-4a41-9d86-da620916996d",
   "metadata": {},
   "outputs": [],
   "source": [
    "# 7-42 : TPM 正規化\n",
    "df_tmp = normalize_per_kilobase(df_tmp, gene_length)  # 長さ 1,000bp あたりのリード数\n",
    "df_tmp = normalize_per_million_reads(df_tmp)  # 総リード数を 100 万に揃える"
   ]
  },
  {
   "cell_type": "code",
   "execution_count": 43,
   "id": "1f9b3d18-d571-4b7c-8a5e-400cfe686b79",
   "metadata": {},
   "outputs": [
    {
     "data": {
      "text/html": [
       "<div>\n",
       "<style scoped>\n",
       "    .dataframe tbody tr th:only-of-type {\n",
       "        vertical-align: middle;\n",
       "    }\n",
       "\n",
       "    .dataframe tbody tr th {\n",
       "        vertical-align: top;\n",
       "    }\n",
       "\n",
       "    .dataframe thead th {\n",
       "        text-align: right;\n",
       "    }\n",
       "</style>\n",
       "<table border=\"1\" class=\"dataframe\">\n",
       "  <thead>\n",
       "    <tr style=\"text-align: right;\">\n",
       "      <th></th>\n",
       "      <th>batch_1</th>\n",
       "      <th>batch_2</th>\n",
       "      <th>batch_3</th>\n",
       "      <th>chemostat_1</th>\n",
       "      <th>chemostat_2</th>\n",
       "      <th>chemostat_3</th>\n",
       "    </tr>\n",
       "    <tr>\n",
       "      <th>gene_id</th>\n",
       "      <th></th>\n",
       "      <th></th>\n",
       "      <th></th>\n",
       "      <th></th>\n",
       "      <th></th>\n",
       "      <th></th>\n",
       "    </tr>\n",
       "  </thead>\n",
       "  <tbody>\n",
       "    <tr>\n",
       "      <th>gene_0001</th>\n",
       "      <td>0.00000</td>\n",
       "      <td>0.734587</td>\n",
       "      <td>3.129839</td>\n",
       "      <td>0.000000</td>\n",
       "      <td>0.000000</td>\n",
       "      <td>0.504810</td>\n",
       "    </tr>\n",
       "    <tr>\n",
       "      <th>gene_0002</th>\n",
       "      <td>0.00000</td>\n",
       "      <td>0.000000</td>\n",
       "      <td>0.000000</td>\n",
       "      <td>0.000000</td>\n",
       "      <td>0.000000</td>\n",
       "      <td>0.000000</td>\n",
       "    </tr>\n",
       "    <tr>\n",
       "      <th>gene_0003</th>\n",
       "      <td>0.00000</td>\n",
       "      <td>0.000000</td>\n",
       "      <td>0.000000</td>\n",
       "      <td>0.000000</td>\n",
       "      <td>0.000000</td>\n",
       "      <td>0.000000</td>\n",
       "    </tr>\n",
       "    <tr>\n",
       "      <th>gene_0004</th>\n",
       "      <td>0.00000</td>\n",
       "      <td>0.000000</td>\n",
       "      <td>0.000000</td>\n",
       "      <td>0.000000</td>\n",
       "      <td>0.000000</td>\n",
       "      <td>0.000000</td>\n",
       "    </tr>\n",
       "    <tr>\n",
       "      <th>gene_0005</th>\n",
       "      <td>0.94849</td>\n",
       "      <td>2.799529</td>\n",
       "      <td>4.969954</td>\n",
       "      <td>4.689762</td>\n",
       "      <td>4.372026</td>\n",
       "      <td>8.657291</td>\n",
       "    </tr>\n",
       "  </tbody>\n",
       "</table>\n",
       "</div>"
      ],
      "text/plain": [
       "           batch_1   batch_2   batch_3  chemostat_1  chemostat_2  chemostat_3\n",
       "gene_id                                                                      \n",
       "gene_0001  0.00000  0.734587  3.129839     0.000000     0.000000     0.504810\n",
       "gene_0002  0.00000  0.000000  0.000000     0.000000     0.000000     0.000000\n",
       "gene_0003  0.00000  0.000000  0.000000     0.000000     0.000000     0.000000\n",
       "gene_0004  0.00000  0.000000  0.000000     0.000000     0.000000     0.000000\n",
       "gene_0005  0.94849  2.799529  4.969954     4.689762     4.372026     8.657291"
      ]
     },
     "execution_count": 43,
     "metadata": {},
     "output_type": "execute_result"
    }
   ],
   "source": [
    "# 7-43 : 結果の確認\n",
    "df_tmp.head()"
   ]
  },
  {
   "cell_type": "code",
   "execution_count": 44,
   "id": "01ee8010-1068-4ec5-8af5-e8a37195c2e0",
   "metadata": {},
   "outputs": [
    {
     "data": {
      "text/plain": [
       "batch_1        1000000.0\n",
       "batch_2        1000000.0\n",
       "batch_3        1000000.0\n",
       "chemostat_1    1000000.0\n",
       "chemostat_2    1000000.0\n",
       "chemostat_3    1000000.0\n",
       "dtype: float64"
      ]
     },
     "execution_count": 44,
     "metadata": {},
     "output_type": "execute_result"
    }
   ],
   "source": [
    "# 7-44 : 合計が 100 万になっているか確認\n",
    "df_tmp.sum()"
   ]
  },
  {
   "cell_type": "code",
   "execution_count": 45,
   "id": "dc3f2f21-ba04-44b9-b887-42f645c943ad",
   "metadata": {},
   "outputs": [],
   "source": [
    "# 7-45 : TPM 正規化を関数化\n",
    "def normalize_tpm(df, gene_length):\n",
    "    df_tmp = df.copy()\n",
    "    df_tmp = normalize_per_kilobase(df_tmp, gene_length)\n",
    "    df_tmp = normalize_per_million_reads(df_tmp)\n",
    "    return df_tmp"
   ]
  },
  {
   "cell_type": "code",
   "execution_count": 46,
   "id": "7462fede-e73e-4949-8d03-834fc9a416b4",
   "metadata": {},
   "outputs": [],
   "source": [
    "# 7-46 : 関数の適用\n",
    "df_count_tmp = normalize_tpm(df_count, gene_length)"
   ]
  },
  {
   "cell_type": "code",
   "execution_count": 47,
   "id": "1d2b079e-ff3e-4cf3-8593-c77c8c88546e",
   "metadata": {},
   "outputs": [
    {
     "data": {
      "text/plain": [
       "batch_1        1000000.0\n",
       "batch_2        1000000.0\n",
       "batch_3        1000000.0\n",
       "chemostat_1    1000000.0\n",
       "chemostat_2    1000000.0\n",
       "chemostat_3    1000000.0\n",
       "dtype: float64"
      ]
     },
     "execution_count": 47,
     "metadata": {},
     "output_type": "execute_result"
    }
   ],
   "source": [
    "# 7-47 : 結果の確認\n",
    "df_count_tmp.sum()"
   ]
  },
  {
   "cell_type": "code",
   "execution_count": 48,
   "id": "874d993a-e2c2-4eee-b234-c7303cfd1f9a",
   "metadata": {},
   "outputs": [],
   "source": [
    "# 7-48 : 結果の保存\n",
    "df_count_tmp.to_csv('output/count_tpm.tsv', sep='\\t')"
   ]
  },
  {
   "cell_type": "markdown",
   "id": "9258f124-0ea5-44f9-a513-d750b347d5b2",
   "metadata": {},
   "source": [
    "### 7.3.4 NumPy を用いた高速バージョンの比較"
   ]
  },
  {
   "cell_type": "code",
   "execution_count": 49,
   "id": "5bce8c47-68ef-4547-a0b2-eecd84b6cd0a",
   "metadata": {},
   "outputs": [
    {
     "name": "stdout",
     "output_type": "stream",
     "text": [
      "1.71 ms ± 3.88 µs per loop (mean ± std. dev. of 7 runs, 1000 loops each)\n"
     ]
    }
   ],
   "source": [
    "%%timeit\n",
    "normalize_tpm(df_count, gene_length)\n",
    "\n",
    "# 7-49 : pandas で定義した TPM 正規化の実行時間を確認"
   ]
  },
  {
   "cell_type": "code",
   "execution_count": 50,
   "id": "cd39e17b-71c6-4542-92f9-5ec1491f3902",
   "metadata": {},
   "outputs": [],
   "source": [
    "# 7-50 : Numpy での実装に必要なデータの抽出\n",
    "counts = df_count.values\n",
    "length = gene_length.values"
   ]
  },
  {
   "cell_type": "markdown",
   "id": "bc1282e1-ddf6-4722-964c-22ebf98b9a18",
   "metadata": {},
   "source": [
    "1. 遺伝子の長さで正規化（行方向でブロードキャストするため、length を reshape しておく）\n",
    "2. 次に、カウント数の各列の合計を求める\n",
    "3. 100 万カウントに揃える"
   ]
  },
  {
   "cell_type": "code",
   "execution_count": 51,
   "id": "d92f4abf-4fe2-4e98-9bae-549d98dca8e1",
   "metadata": {},
   "outputs": [
    {
     "name": "stdout",
     "output_type": "stream",
     "text": [
      "98.2 µs ± 558 ns per loop (mean ± std. dev. of 7 runs, 10000 loops each)\n"
     ]
    }
   ],
   "source": [
    "%%timeit\n",
    "counts_tmp = counts / length.reshape(-1, 1) * 1000\n",
    "sum_count = counts_tmp.sum(axis=0)\n",
    "tpm = counts_tmp / sum_count *1000000\n",
    "\n",
    "# 7-51 : NumPy を用いた TPM 正規化の実行時間確認"
   ]
  },
  {
   "cell_type": "markdown",
   "id": "5e301df4-8f47-4683-a3e3-5827eb4b6b3f",
   "metadata": {},
   "source": [
    "## 7.4 発現変動遺伝子の抽出"
   ]
  },
  {
   "cell_type": "code",
   "execution_count": 52,
   "id": "29b70881-e299-46f7-b491-b4b1c7ae2116",
   "metadata": {},
   "outputs": [],
   "source": [
    "# 7-52 : batch 培養の平均と chemostat 培養の平均を df_count_tpm に追加\n",
    "df_count_tmp['batch'] = (df_count_tmp['batch_1'] + df_count_tmp['batch_2'] + df_count_tmp['batch_3']) / 3\n",
    "df_count_tmp['chemostat'] = (df_count_tmp['chemostat_1'] + df_count_tmp['chemostat_2'] + df_count_tmp['chemostat_3']) / 3"
   ]
  },
  {
   "cell_type": "code",
   "execution_count": 53,
   "id": "b237cdd8-9faa-4e6e-8256-25ae37ba9408",
   "metadata": {},
   "outputs": [
    {
     "data": {
      "text/html": [
       "<div>\n",
       "<style scoped>\n",
       "    .dataframe tbody tr th:only-of-type {\n",
       "        vertical-align: middle;\n",
       "    }\n",
       "\n",
       "    .dataframe tbody tr th {\n",
       "        vertical-align: top;\n",
       "    }\n",
       "\n",
       "    .dataframe thead th {\n",
       "        text-align: right;\n",
       "    }\n",
       "</style>\n",
       "<table border=\"1\" class=\"dataframe\">\n",
       "  <thead>\n",
       "    <tr style=\"text-align: right;\">\n",
       "      <th></th>\n",
       "      <th>batch_1</th>\n",
       "      <th>batch_2</th>\n",
       "      <th>batch_3</th>\n",
       "      <th>chemostat_1</th>\n",
       "      <th>chemostat_2</th>\n",
       "      <th>chemostat_3</th>\n",
       "      <th>batch</th>\n",
       "      <th>chemostat</th>\n",
       "      <th>log2fold</th>\n",
       "    </tr>\n",
       "    <tr>\n",
       "      <th>gene_id</th>\n",
       "      <th></th>\n",
       "      <th></th>\n",
       "      <th></th>\n",
       "      <th></th>\n",
       "      <th></th>\n",
       "      <th></th>\n",
       "      <th></th>\n",
       "      <th></th>\n",
       "      <th></th>\n",
       "    </tr>\n",
       "  </thead>\n",
       "  <tbody>\n",
       "    <tr>\n",
       "      <th>gene_0001</th>\n",
       "      <td>0.00000</td>\n",
       "      <td>0.734587</td>\n",
       "      <td>3.129839</td>\n",
       "      <td>0.000000</td>\n",
       "      <td>0.000000</td>\n",
       "      <td>0.504810</td>\n",
       "      <td>1.288142</td>\n",
       "      <td>0.168270</td>\n",
       "      <td>-2.936443</td>\n",
       "    </tr>\n",
       "    <tr>\n",
       "      <th>gene_0002</th>\n",
       "      <td>0.00000</td>\n",
       "      <td>0.000000</td>\n",
       "      <td>0.000000</td>\n",
       "      <td>0.000000</td>\n",
       "      <td>0.000000</td>\n",
       "      <td>0.000000</td>\n",
       "      <td>0.000000</td>\n",
       "      <td>0.000000</td>\n",
       "      <td>-inf</td>\n",
       "    </tr>\n",
       "    <tr>\n",
       "      <th>gene_0003</th>\n",
       "      <td>0.00000</td>\n",
       "      <td>0.000000</td>\n",
       "      <td>0.000000</td>\n",
       "      <td>0.000000</td>\n",
       "      <td>0.000000</td>\n",
       "      <td>0.000000</td>\n",
       "      <td>0.000000</td>\n",
       "      <td>0.000000</td>\n",
       "      <td>-inf</td>\n",
       "    </tr>\n",
       "    <tr>\n",
       "      <th>gene_0004</th>\n",
       "      <td>0.00000</td>\n",
       "      <td>0.000000</td>\n",
       "      <td>0.000000</td>\n",
       "      <td>0.000000</td>\n",
       "      <td>0.000000</td>\n",
       "      <td>0.000000</td>\n",
       "      <td>0.000000</td>\n",
       "      <td>0.000000</td>\n",
       "      <td>-inf</td>\n",
       "    </tr>\n",
       "    <tr>\n",
       "      <th>gene_0005</th>\n",
       "      <td>0.94849</td>\n",
       "      <td>2.799529</td>\n",
       "      <td>4.969954</td>\n",
       "      <td>4.689762</td>\n",
       "      <td>4.372026</td>\n",
       "      <td>8.657291</td>\n",
       "      <td>2.905991</td>\n",
       "      <td>5.906359</td>\n",
       "      <td>1.023238</td>\n",
       "    </tr>\n",
       "  </tbody>\n",
       "</table>\n",
       "</div>"
      ],
      "text/plain": [
       "           batch_1   batch_2   batch_3  chemostat_1  chemostat_2  chemostat_3  \\\n",
       "gene_id                                                                         \n",
       "gene_0001  0.00000  0.734587  3.129839     0.000000     0.000000     0.504810   \n",
       "gene_0002  0.00000  0.000000  0.000000     0.000000     0.000000     0.000000   \n",
       "gene_0003  0.00000  0.000000  0.000000     0.000000     0.000000     0.000000   \n",
       "gene_0004  0.00000  0.000000  0.000000     0.000000     0.000000     0.000000   \n",
       "gene_0005  0.94849  2.799529  4.969954     4.689762     4.372026     8.657291   \n",
       "\n",
       "              batch  chemostat  log2fold  \n",
       "gene_id                                   \n",
       "gene_0001  1.288142   0.168270 -2.936443  \n",
       "gene_0002  0.000000   0.000000      -inf  \n",
       "gene_0003  0.000000   0.000000      -inf  \n",
       "gene_0004  0.000000   0.000000      -inf  \n",
       "gene_0005  2.905991   5.906359  1.023238  "
      ]
     },
     "execution_count": 53,
     "metadata": {},
     "output_type": "execute_result"
    }
   ],
   "source": [
    "# 7-53 : 発現変動を 2 を底とした対数値として求める\n",
    "df_count_tmp['log2fold'] = df_count_tmp['chemostat'] / (df_count_tmp['batch'] + 10**-6)  # 0 での除算を防ぐために分母に微小な値を加える\n",
    "df_count_tmp['log2fold'] = df_count_tmp['log2fold'].apply(np.log2)\n",
    "df_count_tmp.head()"
   ]
  },
  {
   "cell_type": "code",
   "execution_count": 54,
   "id": "7c24c08f-7802-42a2-a4a8-f3e5d275cd4c",
   "metadata": {},
   "outputs": [
    {
     "data": {
      "text/html": [
       "<div>\n",
       "<style scoped>\n",
       "    .dataframe tbody tr th:only-of-type {\n",
       "        vertical-align: middle;\n",
       "    }\n",
       "\n",
       "    .dataframe tbody tr th {\n",
       "        vertical-align: top;\n",
       "    }\n",
       "\n",
       "    .dataframe thead th {\n",
       "        text-align: right;\n",
       "    }\n",
       "</style>\n",
       "<table border=\"1\" class=\"dataframe\">\n",
       "  <thead>\n",
       "    <tr style=\"text-align: right;\">\n",
       "      <th></th>\n",
       "      <th>batch</th>\n",
       "      <th>chemostat</th>\n",
       "      <th>log2fold</th>\n",
       "      <th>product</th>\n",
       "    </tr>\n",
       "    <tr>\n",
       "      <th>gene_id</th>\n",
       "      <th></th>\n",
       "      <th></th>\n",
       "      <th></th>\n",
       "      <th></th>\n",
       "    </tr>\n",
       "  </thead>\n",
       "  <tbody>\n",
       "    <tr>\n",
       "      <th>gene_0001</th>\n",
       "      <td>1.288142</td>\n",
       "      <td>0.168270</td>\n",
       "      <td>-2.936443</td>\n",
       "      <td>seripauperin PAU8</td>\n",
       "    </tr>\n",
       "    <tr>\n",
       "      <th>gene_0002</th>\n",
       "      <td>0.000000</td>\n",
       "      <td>0.000000</td>\n",
       "      <td>-inf</td>\n",
       "      <td>hypothetical protein</td>\n",
       "    </tr>\n",
       "    <tr>\n",
       "      <th>gene_0003</th>\n",
       "      <td>0.000000</td>\n",
       "      <td>0.000000</td>\n",
       "      <td>-inf</td>\n",
       "      <td>putative permease SEO1</td>\n",
       "    </tr>\n",
       "    <tr>\n",
       "      <th>gene_0004</th>\n",
       "      <td>0.000000</td>\n",
       "      <td>0.000000</td>\n",
       "      <td>-inf</td>\n",
       "      <td>hypothetical protein</td>\n",
       "    </tr>\n",
       "    <tr>\n",
       "      <th>gene_0005</th>\n",
       "      <td>2.905991</td>\n",
       "      <td>5.906359</td>\n",
       "      <td>1.023238</td>\n",
       "      <td>hypothetical protein</td>\n",
       "    </tr>\n",
       "  </tbody>\n",
       "</table>\n",
       "</div>"
      ],
      "text/plain": [
       "              batch  chemostat  log2fold                 product\n",
       "gene_id                                                         \n",
       "gene_0001  1.288142   0.168270 -2.936443       seripauperin PAU8\n",
       "gene_0002  0.000000   0.000000      -inf    hypothetical protein\n",
       "gene_0003  0.000000   0.000000      -inf  putative permease SEO1\n",
       "gene_0004  0.000000   0.000000      -inf    hypothetical protein\n",
       "gene_0005  2.905991   5.906359  1.023238    hypothetical protein"
      ]
     },
     "execution_count": 54,
     "metadata": {},
     "output_type": "execute_result"
    }
   ],
   "source": [
    "# 7-54 : 必要部分のみ抜き出して product 名をつけて、gene_products に結合\n",
    "diff_ex = df_count_tmp[['batch', 'chemostat', 'log2fold']]  # この 3 つが必要\n",
    "diff_ex = diff_ex.join(gene_products)\n",
    "diff_ex.head()"
   ]
  },
  {
   "cell_type": "code",
   "execution_count": 55,
   "id": "0c0de311-14eb-4c86-8fe7-02a76998ab39",
   "metadata": {},
   "outputs": [],
   "source": [
    "# 7-55 : カウント数が 0 であるデータを除く\n",
    "diff_ex = diff_ex[diff_ex['batch'] > 0]\n",
    "diff_ex = diff_ex[diff_ex['chemostat'] > 0]"
   ]
  },
  {
   "cell_type": "code",
   "execution_count": 56,
   "id": "10027720-6282-42de-b51d-9465b3e5b59b",
   "metadata": {},
   "outputs": [
    {
     "data": {
      "text/plain": [
       "(5857, 4)"
      ]
     },
     "execution_count": 56,
     "metadata": {},
     "output_type": "execute_result"
    }
   ],
   "source": [
    "# 7-56 : 行数の確認\n",
    "diff_ex.shape"
   ]
  },
  {
   "cell_type": "code",
   "execution_count": 57,
   "id": "718eb2dc-a335-428d-94f6-dd204603c8c1",
   "metadata": {},
   "outputs": [
    {
     "data": {
      "text/html": [
       "<div>\n",
       "<style scoped>\n",
       "    .dataframe tbody tr th:only-of-type {\n",
       "        vertical-align: middle;\n",
       "    }\n",
       "\n",
       "    .dataframe tbody tr th {\n",
       "        vertical-align: top;\n",
       "    }\n",
       "\n",
       "    .dataframe thead th {\n",
       "        text-align: right;\n",
       "    }\n",
       "</style>\n",
       "<table border=\"1\" class=\"dataframe\">\n",
       "  <thead>\n",
       "    <tr style=\"text-align: right;\">\n",
       "      <th></th>\n",
       "      <th>batch</th>\n",
       "      <th>chemostat</th>\n",
       "      <th>log2fold</th>\n",
       "      <th>product</th>\n",
       "    </tr>\n",
       "    <tr>\n",
       "      <th>gene_id</th>\n",
       "      <th></th>\n",
       "      <th></th>\n",
       "      <th></th>\n",
       "      <th></th>\n",
       "    </tr>\n",
       "  </thead>\n",
       "  <tbody>\n",
       "    <tr>\n",
       "      <th>gene_0001</th>\n",
       "      <td>1.288142</td>\n",
       "      <td>0.168270</td>\n",
       "      <td>-2.936443</td>\n",
       "      <td>seripauperin PAU8</td>\n",
       "    </tr>\n",
       "    <tr>\n",
       "      <th>gene_0005</th>\n",
       "      <td>2.905991</td>\n",
       "      <td>5.906359</td>\n",
       "      <td>1.023238</td>\n",
       "      <td>hypothetical protein</td>\n",
       "    </tr>\n",
       "    <tr>\n",
       "      <th>gene_0009</th>\n",
       "      <td>1.424695</td>\n",
       "      <td>3.627256</td>\n",
       "      <td>1.348225</td>\n",
       "      <td>flocculin FLO9</td>\n",
       "    </tr>\n",
       "    <tr>\n",
       "      <th>gene_0010</th>\n",
       "      <td>8.211912</td>\n",
       "      <td>155.846213</td>\n",
       "      <td>4.246261</td>\n",
       "      <td>glutamate dehydrogenase (NADP(+)) GDH3</td>\n",
       "    </tr>\n",
       "    <tr>\n",
       "      <th>gene_0011</th>\n",
       "      <td>14.270889</td>\n",
       "      <td>155.994499</td>\n",
       "      <td>3.450348</td>\n",
       "      <td>putative dehydrogenase BDH2</td>\n",
       "    </tr>\n",
       "  </tbody>\n",
       "</table>\n",
       "</div>"
      ],
      "text/plain": [
       "               batch   chemostat  log2fold  \\\n",
       "gene_id                                      \n",
       "gene_0001   1.288142    0.168270 -2.936443   \n",
       "gene_0005   2.905991    5.906359  1.023238   \n",
       "gene_0009   1.424695    3.627256  1.348225   \n",
       "gene_0010   8.211912  155.846213  4.246261   \n",
       "gene_0011  14.270889  155.994499  3.450348   \n",
       "\n",
       "                                          product  \n",
       "gene_id                                            \n",
       "gene_0001                       seripauperin PAU8  \n",
       "gene_0005                    hypothetical protein  \n",
       "gene_0009                          flocculin FLO9  \n",
       "gene_0010  glutamate dehydrogenase (NADP(+)) GDH3  \n",
       "gene_0011             putative dehydrogenase BDH2  "
      ]
     },
     "execution_count": 57,
     "metadata": {},
     "output_type": "execute_result"
    }
   ],
   "source": [
    "# 7-57 : 結果の確認\n",
    "diff_ex.head()"
   ]
  },
  {
   "cell_type": "code",
   "execution_count": 58,
   "id": "eed4ea48-f0a3-41e5-8ccc-bbf441595069",
   "metadata": {},
   "outputs": [],
   "source": [
    "# 7-58 : log2fold の降順に並び替え\n",
    "diff_ex = diff_ex.sort_values('log2fold', ascending=False)"
   ]
  },
  {
   "cell_type": "code",
   "execution_count": 59,
   "id": "00d469f4-5a0f-45e4-a308-dce814f79483",
   "metadata": {},
   "outputs": [
    {
     "data": {
      "text/html": [
       "<div>\n",
       "<style scoped>\n",
       "    .dataframe tbody tr th:only-of-type {\n",
       "        vertical-align: middle;\n",
       "    }\n",
       "\n",
       "    .dataframe tbody tr th {\n",
       "        vertical-align: top;\n",
       "    }\n",
       "\n",
       "    .dataframe thead th {\n",
       "        text-align: right;\n",
       "    }\n",
       "</style>\n",
       "<table border=\"1\" class=\"dataframe\">\n",
       "  <thead>\n",
       "    <tr style=\"text-align: right;\">\n",
       "      <th></th>\n",
       "      <th>batch</th>\n",
       "      <th>chemostat</th>\n",
       "      <th>log2fold</th>\n",
       "      <th>product</th>\n",
       "    </tr>\n",
       "    <tr>\n",
       "      <th>gene_id</th>\n",
       "      <th></th>\n",
       "      <th></th>\n",
       "      <th></th>\n",
       "      <th></th>\n",
       "    </tr>\n",
       "  </thead>\n",
       "  <tbody>\n",
       "    <tr>\n",
       "      <th>gene_2989</th>\n",
       "      <td>0.428753</td>\n",
       "      <td>1469.082090</td>\n",
       "      <td>11.742478</td>\n",
       "      <td>Rgi2p</td>\n",
       "    </tr>\n",
       "    <tr>\n",
       "      <th>gene_4740</th>\n",
       "      <td>3.101195</td>\n",
       "      <td>5075.124519</td>\n",
       "      <td>10.676403</td>\n",
       "      <td>Sip18p</td>\n",
       "    </tr>\n",
       "    <tr>\n",
       "      <th>gene_4667</th>\n",
       "      <td>4.944971</td>\n",
       "      <td>4658.135852</td>\n",
       "      <td>9.879575</td>\n",
       "      <td>Spg4p</td>\n",
       "    </tr>\n",
       "    <tr>\n",
       "      <th>gene_4237</th>\n",
       "      <td>0.961310</td>\n",
       "      <td>708.223065</td>\n",
       "      <td>9.524985</td>\n",
       "      <td>hypothetical protein</td>\n",
       "    </tr>\n",
       "    <tr>\n",
       "      <th>gene_5965</th>\n",
       "      <td>7.232487</td>\n",
       "      <td>5295.812440</td>\n",
       "      <td>9.516144</td>\n",
       "      <td>Gre1p</td>\n",
       "    </tr>\n",
       "  </tbody>\n",
       "</table>\n",
       "</div>"
      ],
      "text/plain": [
       "              batch    chemostat   log2fold               product\n",
       "gene_id                                                          \n",
       "gene_2989  0.428753  1469.082090  11.742478                 Rgi2p\n",
       "gene_4740  3.101195  5075.124519  10.676403                Sip18p\n",
       "gene_4667  4.944971  4658.135852   9.879575                 Spg4p\n",
       "gene_4237  0.961310   708.223065   9.524985  hypothetical protein\n",
       "gene_5965  7.232487  5295.812440   9.516144                 Gre1p"
      ]
     },
     "execution_count": 59,
     "metadata": {},
     "output_type": "execute_result"
    }
   ],
   "source": [
    "# 7-59 : 発現変動遺伝子の上位を表示\n",
    "diff_ex.head()  # chemostat > batch の上位 5 番目まで表示"
   ]
  },
  {
   "cell_type": "code",
   "execution_count": 60,
   "id": "42324076-13b6-426c-bea1-4befbb6a52c9",
   "metadata": {},
   "outputs": [
    {
     "data": {
      "text/html": [
       "<div>\n",
       "<style scoped>\n",
       "    .dataframe tbody tr th:only-of-type {\n",
       "        vertical-align: middle;\n",
       "    }\n",
       "\n",
       "    .dataframe tbody tr th {\n",
       "        vertical-align: top;\n",
       "    }\n",
       "\n",
       "    .dataframe thead th {\n",
       "        text-align: right;\n",
       "    }\n",
       "</style>\n",
       "<table border=\"1\" class=\"dataframe\">\n",
       "  <thead>\n",
       "    <tr style=\"text-align: right;\">\n",
       "      <th></th>\n",
       "      <th>batch</th>\n",
       "      <th>chemostat</th>\n",
       "      <th>log2fold</th>\n",
       "      <th>product</th>\n",
       "    </tr>\n",
       "    <tr>\n",
       "      <th>gene_id</th>\n",
       "      <th></th>\n",
       "      <th></th>\n",
       "      <th></th>\n",
       "      <th></th>\n",
       "    </tr>\n",
       "  </thead>\n",
       "  <tbody>\n",
       "    <tr>\n",
       "      <th>gene_0314</th>\n",
       "      <td>10.570903</td>\n",
       "      <td>1.105484</td>\n",
       "      <td>-3.257349</td>\n",
       "      <td>ADP/ATP carrier protein AAC3</td>\n",
       "    </tr>\n",
       "    <tr>\n",
       "      <th>gene_2429</th>\n",
       "      <td>2.082786</td>\n",
       "      <td>0.181792</td>\n",
       "      <td>-3.518158</td>\n",
       "      <td>hypothetical protein</td>\n",
       "    </tr>\n",
       "    <tr>\n",
       "      <th>gene_2725</th>\n",
       "      <td>784.525221</td>\n",
       "      <td>66.820686</td>\n",
       "      <td>-3.553453</td>\n",
       "      <td>hexose transporter HXT4</td>\n",
       "    </tr>\n",
       "    <tr>\n",
       "      <th>gene_5487</th>\n",
       "      <td>77.913513</td>\n",
       "      <td>6.244048</td>\n",
       "      <td>-3.641320</td>\n",
       "      <td>hypothetical protein</td>\n",
       "    </tr>\n",
       "    <tr>\n",
       "      <th>gene_1320</th>\n",
       "      <td>812.668223</td>\n",
       "      <td>46.017423</td>\n",
       "      <td>-4.142414</td>\n",
       "      <td>hexose transporter HXT3</td>\n",
       "    </tr>\n",
       "  </tbody>\n",
       "</table>\n",
       "</div>"
      ],
      "text/plain": [
       "                batch  chemostat  log2fold                       product\n",
       "gene_id                                                                 \n",
       "gene_0314   10.570903   1.105484 -3.257349  ADP/ATP carrier protein AAC3\n",
       "gene_2429    2.082786   0.181792 -3.518158          hypothetical protein\n",
       "gene_2725  784.525221  66.820686 -3.553453       hexose transporter HXT4\n",
       "gene_5487   77.913513   6.244048 -3.641320          hypothetical protein\n",
       "gene_1320  812.668223  46.017423 -4.142414       hexose transporter HXT3"
      ]
     },
     "execution_count": 60,
     "metadata": {},
     "output_type": "execute_result"
    }
   ],
   "source": [
    "# 7-60 : 発現変動遺伝子の上位を表示\n",
    "diff_ex.tail()  # batch > chemostat の上位 5 番目まで表示"
   ]
  },
  {
   "cell_type": "markdown",
   "id": "db649df3-a749-49b3-9ec4-2ae83767e622",
   "metadata": {},
   "source": [
    "## 7.5 TPM 正規化したデータのクラスタリング"
   ]
  },
  {
   "cell_type": "code",
   "execution_count": 61,
   "id": "f688f1c6-ab3f-43e5-b845-6edb514d197f",
   "metadata": {},
   "outputs": [],
   "source": [
    "# 7-61 : matplotlib と SciPy のモジュールを import\n",
    "import matplotlib.pyplot as plt\n",
    "from scipy.cluster.hierarchy import linkage, dendrogram, fcluster"
   ]
  },
  {
   "cell_type": "code",
   "execution_count": 62,
   "id": "d2d2db62-3de1-4590-8cd9-a271b4a01316",
   "metadata": {},
   "outputs": [],
   "source": [
    "# 7-62 : 各サンプルの TPM 正規化カウントデータだけにする\n",
    "tpm_t = df_count_tmp.T\n",
    "tpm_t = tpm_t.drop(['batch', 'chemostat', 'log2fold'])"
   ]
  },
  {
   "cell_type": "code",
   "execution_count": 63,
   "id": "432cc2fb-aa3e-4fbc-b085-b4a131ebdaf9",
   "metadata": {},
   "outputs": [],
   "source": [
    "# 7-63 : ユークリッド距離、Ward 法を用いてクラスタリング\n",
    "linkage_result = linkage(tpm_t, method='ward', metric='euclidean')"
   ]
  },
  {
   "cell_type": "code",
   "execution_count": 64,
   "id": "eef5e3d5-cd12-47b7-82c7-5fbc9ed83c4e",
   "metadata": {},
   "outputs": [
    {
     "data": {
      "image/png": "[encoded data removed]",
      "text/plain": [
       "<Figure size 3200x1800 with 1 Axes>"
      ]
     },
     "metadata": {},
     "output_type": "display_data"
    }
   ],
   "source": [
    "# 7-64 : デンドログラムを描く\n",
    "plt.figure(num=None, figsize=(16, 9), dpi=200, facecolor='w', edgecolor='k')\n",
    "dendrogram(linkage_result, labels=list(tpm_t.index))\n",
    "plt.show()"
   ]
  },
  {
   "cell_type": "markdown",
   "id": "7b45f1ea-80c7-41fb-80e8-5086798eea1c",
   "metadata": {},
   "source": [
    "デンドログラム（樹形図）：クラスター分析において、逐次的に標本がグループ化される様子を木の枝のような線で表したもの"
   ]
  },
  {
   "cell_type": "code",
   "execution_count": null,
   "id": "6850a80b-c820-4868-8a08-dee919fc3769",
   "metadata": {},
   "outputs": [],
   "source": []
  }
 ],
 "metadata": {
  "kernelspec": {
   "display_name": "Python 3",
   "language": "python",
   "name": "python3"
  },
  "language_info": {
   "codemirror_mode": {
    "name": "ipython",
    "version": 3
   },
   "file_extension": ".py",
   "mimetype": "text/x-python",
   "name": "python",
   "nbconvert_exporter": "python",
   "pygments_lexer": "ipython3",
   "version": "3.8.2"
  }
 },
 "nbformat": 4,
 "nbformat_minor": 5
}
